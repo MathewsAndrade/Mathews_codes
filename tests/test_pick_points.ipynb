{
 "cells": [
  {
   "cell_type": "code",
   "execution_count": 1,
   "metadata": {
    "collapsed": true,
    "slideshow": {
     "slide_type": "-"
    }
   },
   "outputs": [],
   "source": [
    "## test iterative drawing polygon:\n",
    "import warnings\n",
    "import numpy\n",
    "from matplotlib import pyplot, widgets\n",
    "%matplotlib tk\n",
    "#%matplotlib inline"
   ]
  },
  {
   "cell_type": "code",
   "execution_count": 2,
   "metadata": {
    "collapsed": true,
    "slideshow": {
     "slide_type": "slide"
    }
   },
   "outputs": [],
   "source": [
    "# importacao das funções externas:\n",
    "from modules.iplots import pick_points"
   ]
  },
  {
   "cell_type": "code",
   "execution_count": 3,
   "metadata": {
    "collapsed": true,
    "slideshow": {
     "slide_type": "-"
    }
   },
   "outputs": [],
   "source": [
    "# Draw each polygonal prism (viewed from above)\n",
    "bounds = [-5000, 5000, -5000, 5000, 0, 5000]\n",
    "area = bounds[:4]\n",
    "axes = pyplot.figure().add_subplot(1,1,1)\n",
    "xv,yv = pick_points(area, axes, marker='o', color='k', size=8, xy2ne=False)"
   ]
  },
  {
   "cell_type": "code",
   "execution_count": 4,
   "metadata": {},
   "outputs": [
    {
     "name": "stdout",
     "output_type": "stream",
     "text": [
      "[-4798.3870967741932, -3487.9032258064517, -2883.0645161290327, -2116.9354838709678, -584.677419354839, 564.5161290322576, 1633.0645161290313, 2721.7741935483873, 3044.3548387096771, 3749.9999999999991, 4072.5806451612889, 4314.5161290322567]\n",
      "[362.554112554114, -1179.6536796536784, -3344.1558441558436, -3858.2251082251078, -4020.5627705627699, -3100.6493506493498, -4155.8441558441555, -3939.393939393939, -2424.2424242424236, -1639.6103896103887, 91.991341991343688, 606.06060606060782]\n"
     ]
    }
   ],
   "source": [
    "print xv\n",
    "print yv"
   ]
  },
  {
   "cell_type": "code",
   "execution_count": null,
   "metadata": {
    "collapsed": true
   },
   "outputs": [],
   "source": []
  }
 ],
 "metadata": {
  "celltoolbar": "Slideshow",
  "kernelspec": {
   "display_name": "Python 2",
   "language": "python",
   "name": "python2"
  },
  "language_info": {
   "codemirror_mode": {
    "name": "ipython",
    "version": 2
   },
   "file_extension": ".py",
   "mimetype": "text/x-python",
   "name": "python",
   "nbconvert_exporter": "python",
   "pygments_lexer": "ipython2",
   "version": "2.7.14"
  }
 },
 "nbformat": 4,
 "nbformat_minor": 2
}
