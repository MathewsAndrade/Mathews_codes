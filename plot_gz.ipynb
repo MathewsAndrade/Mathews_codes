{
 "cells": [
  {
   "cell_type": "markdown",
   "metadata": {},
   "source": [
    "# Neste notebook faz-se um plot de gz em um perfil"
   ]
  },
  {
   "cell_type": "code",
   "execution_count": 6,
   "metadata": {
    "collapsed": false
   },
   "outputs": [],
   "source": [
    "# import necessary library:\n",
    "import numpy as np\n",
    "import matplotlib.pyplot as plt\n",
    "# to plot figures in cells:\n",
    "%matplotlib inline "
   ]
  },
  {
   "cell_type": "code",
   "execution_count": 7,
   "metadata": {
    "collapsed": false
   },
   "outputs": [],
   "source": [
    "# read a file with data in rows and colums:\n",
    "f1 = np.loadtxt('profile_gz.txt')\n",
    "f2 = np.loadtxt('source.txt',skiprows=1)\n",
    "fs = 18 # font size for the label"
   ]
  },
  {
   "cell_type": "markdown",
   "metadata": {},
   "source": [
    "## Fazendo a leitura dos arquivos e colocando nas variaveis adequadas:"
   ]
  },
  {
   "cell_type": "code",
   "execution_count": 8,
   "metadata": {
    "collapsed": true
   },
   "outputs": [],
   "source": [
    "# Set the source info to mnemonic variables:\n",
    "xc = f2[:,0] # x-coordinate \n",
    "zc = f2[:,1] # z coordinate\n",
    "m  = f2[:,2] # total mass\n",
    "\n",
    "#set each colum into a variable:\n",
    "x = (f1[:,0]) # observations\n",
    "gz = (f1[:,1]) # vertical attraction gz\n"
   ]
  },
  {
   "cell_type": "markdown",
   "metadata": {},
   "source": [
    "## Plot da anomalia da gravidade e o perfil :"
   ]
  },
  {
   "cell_type": "code",
   "execution_count": 9,
   "metadata": {
    "collapsed": false
   },
   "outputs": [
    {
     "data": {
      "text/plain": [
       "<matplotlib.text.Text at 0x7f00be23f198>"
      ]
     },
     "execution_count": 9,
     "metadata": {},
     "output_type": "execute_result"
    },
    {
     "data": {
      "image/png": "[encoded data removed]",
      "text/plain": [
       "<matplotlib.figure.Figure at 0x7f00be2c72b0>"
      ]
     },
     "metadata": {},
     "output_type": "display_data"
    }
   ],
   "source": [
    "# Plot the source together with the anomaly:\n",
    "fig, a = plt.subplots(2,1)\n",
    "\n",
    "a[0].plot(x, gz, 'b*')\n",
    "a[0].set_xlim([np.min(x), np.max(x)])\n",
    "a[0].set_ylim([np.min(gz)-0.1, np.max(gz)+0.1])\n",
    "#ay1.set_axis[np.min(x)-2.0, np.max(x)+2.0, np.min(gz), np.max(gz)]\n",
    "a[0].set_ylabel('gz (mGal)',fontsize=fs)\n",
    "\n",
    "# set the source:\n",
    "\n",
    "a[1].plot(xc,zc, 'ro')\n",
    "a[1].invert_yaxis()\n",
    "a[1].set_xlim([np.min(x)-1.0, np.max(x)+1.0])\n",
    "a[1].set_ylim([100, 0.0])\n",
    "\n",
    "a[1].set_ylabel('z (m)',fontsize=fs)\n",
    "a[1].set_xlabel('x (m)',fontsize=fs)\n"
   ]
  },
  {
   "cell_type": "code",
   "execution_count": null,
   "metadata": {
    "collapsed": true
   },
   "outputs": [],
   "source": []
  }
 ],
 "metadata": {
  "kernelspec": {
   "display_name": "Python 3",
   "language": "python",
   "name": "python3"
  },
  "language_info": {
   "codemirror_mode": {
    "name": "ipython",
    "version": 3
   },
   "file_extension": ".py",
   "mimetype": "text/x-python",
   "name": "python",
   "nbconvert_exporter": "python",
   "pygments_lexer": "ipython3",
   "version": "3.4.3"
  }
 },
 "nbformat": 4,
 "nbformat_minor": 0
}
