{
 "cells": [
  {
   "cell_type": "markdown",
   "metadata": {},
   "source": [
    "## Script para plotagem dos dados gravimétricos terrestres referentes a Bacia de Barreirinhas (dados adquiridos por Nelson Delimar - Nielsen)"
   ]
  },
  {
   "cell_type": "code",
   "execution_count": null,
   "metadata": {},
   "outputs": [],
   "source": [
    "# importando as bibliotecas necessarias para o uso do script:\n",
    "# import necessary library:\n",
    "import numpy as np\n",
    "import pylab as py\n",
    "from numpy.linalg import inv, solve\n",
    "import matplotlib.pyplot as plt\n",
    "import pandas as pd\n",
    "#from mpl_toolkits.basemap import Basemap\n",
    "from matplotlib.patches import Polygon\n",
    "from scipy.interpolate import Rbf, griddata # radial basis functions technique\n",
    "import utm\n",
    "# to plot figures in cells:\n",
    "%matplotlib inline"
   ]
  },
  {
   "cell_type": "code",
   "execution_count": null,
   "metadata": {},
   "outputs": [],
   "source": [
    "# importacao das funções externas ao anaconda:\n",
    "from modules.auxiliars import inv_power_dist\n",
    "from modules.grids import profile\n",
    "#from modules.maps import plota_mapa"
   ]
  },
  {
   "cell_type": "code",
   "execution_count": null,
   "metadata": {},
   "outputs": [],
   "source": [
    "# leitura dos dados via pandas e via numpy:\n",
    "# 1) dados do nielsen:\n",
    "data = pd.read_table('../dados_reais/Barreirinhas/data_barreirinhas.txt')\n",
    "#print data\n",
    "# for Mathews PC:\n",
    "#data = pd.read_table('../dados_reais/data_barreirinhas.txt')\n",
    "\n",
    "# 2) dados de satelite (potzdam): \n",
    "lon_sat, lat_sat, gz_sat = np.loadtxt('../dados_reais/Barreirinhas/barreirinhas_satelite2.gdf', \n",
    "                                      skiprows=37, usecols=(0,1,2), unpack=True) \n",
    "# For Mathews PC:\n",
    "#lon_sat, lat_sat, gz_sat = np.loadtxt('../dados_reais/barreirinhas_satelite.gdf',\n",
    "#                                      skiprows=35, usecols=(0,1,3), unpack=True) \n",
    "\n",
    "# variaveis para usar a funcao plota mapa:\n",
    "lon_sat = lon_sat -360.0  # correcao de quadrante "
   ]
  },
  {
   "cell_type": "code",
   "execution_count": null,
   "metadata": {},
   "outputs": [],
   "source": [
    "# leitura dos dados via pandas:\n",
    "# ------------ plot the flight lines to check for the interpolation:--------#\n",
    "# ------------ set figure size: ------------------------------------------#\n",
    "plt.close('all')\n",
    "fig = plt.figure(figsize=(20,5), facecolor='w' )\n",
    "\n",
    "plt.subplot(1,2,1)\n",
    "fig.suptitle('Raw data - Barreirinhas Basin', fontsize=16)\n",
    "plt.xlabel('Longitude ($^o$)', fontsize = 15)\n",
    "plt.ylabel('Latitude ($^o$)', fontsize = 15)\n",
    "p1 = plt.scatter(data['Longitude'], data['Latitude'], s=5.0, c=data['BG (mGal)'], marker='*', cmap=plt.cm.coolwarm)\n",
    "cbar = plt.colorbar(p1, aspect=30, fraction = 0.03, orientation=\"horizontal\")\n",
    "cbar.set_label('Gravity Anomaly $ (mGal) $',fontsize=15, rotation = 0)\n",
    "plt.grid()\n",
    "###########################################################################################################################\n",
    "\n",
    "plt.subplot(1,2,2)\n",
    "plt.xlabel('Longitude ($^o$)', fontsize = 15)\n",
    "plt.ylabel('Latitude ($^o$)', fontsize = 15)\n",
    "\n",
    "p2  = plt.scatter(data['Longitude'], data['Latitude'], s=5.0, c=data['H (m)'], marker='.', cmap=plt.cm.rainbow)\n",
    "cbar= plt.colorbar(p2, aspect=50, fraction = 0.02, orientation=\"horizontal\")\n",
    "cbar.set_label('Topography $ (m) $',fontsize=15, rotation = 0)\n",
    "plt.grid()\n",
    "plt.show()"
   ]
  },
  {
   "cell_type": "markdown",
   "metadata": {},
   "source": [
    "##  <center> Remocao de outliers dos dados: <center> "
   ]
  },
  {
   "cell_type": "code",
   "execution_count": null,
   "metadata": {},
   "outputs": [],
   "source": [
    "# Etapa 01: seleção do range indesejavel:\n",
    "df = data.loc[ (data['Longitude'] < -43.0) & (data['Latitude'] < -3.2 ) ]"
   ]
  },
  {
   "cell_type": "code",
   "execution_count": null,
   "metadata": {},
   "outputs": [],
   "source": [
    "df"
   ]
  },
  {
   "cell_type": "code",
   "execution_count": null,
   "metadata": {},
   "outputs": [],
   "source": [
    "# remover as linhas armazenadas no array indices:\n",
    "df = data.drop(df.index.values)"
   ]
  },
  {
   "cell_type": "code",
   "execution_count": null,
   "metadata": {},
   "outputs": [],
   "source": [
    "# por em ordem em função da longitude(coluna 2)\n",
    "ds = df.sort_values(by=['Longitude'], ascending=True)"
   ]
  },
  {
   "cell_type": "code",
   "execution_count": null,
   "metadata": {},
   "outputs": [],
   "source": [
    "# remove valores repetidos em diferentes linhas (Mathews descobriu como fazer remoçoes de duplicatas via pandas!:\n",
    "ds.drop_duplicates( ['Longitude','Latitude'], keep='first', inplace=True )"
   ]
  },
  {
   "cell_type": "code",
   "execution_count": null,
   "metadata": {},
   "outputs": [],
   "source": [
    "ds"
   ]
  },
  {
   "cell_type": "code",
   "execution_count": null,
   "metadata": {},
   "outputs": [],
   "source": [
    "# salvando arquivo para georeferenciamento for Mathews:\n",
    "ds.to_csv('../dados_reais/Barreirinhas/caminhamento.csv', sep = ' ', encoding='utf-8')"
   ]
  },
  {
   "cell_type": "code",
   "execution_count": null,
   "metadata": {},
   "outputs": [],
   "source": [
    "# ------------ set figure size: ------------------------------------------#\n",
    "plt.close('all')\n",
    "fig = plt.figure(figsize=(20,5), facecolor='w')\n",
    "plt.subplot(1,2,1)\n",
    "\n",
    "fig.suptitle('Removing outliers', fontsize=16)\n",
    "plt.xlabel('Longitude ($^o$)', fontsize = 13)\n",
    "plt.ylabel('Latitude ($^o$)', fontsize = 13)\n",
    "p1 = plt.scatter(np.array(ds['Longitude']), np.array(ds['Latitude']), s=5.0, c=np.array(ds['BG (mGal)']), marker='*', cmap='RdBu_r')\n",
    "cbar = plt.colorbar(p1, aspect=50, fraction = 0.02, orientation=\"horizontal\")\n",
    "cbar.set_label('Gravity Anomaly $ (mGal) $',fontsize=13, rotation = 0)\n",
    "plt.grid()\n",
    "###########################################################################################################################\n",
    "\n",
    "plt.subplot(1,2,2)\n",
    "plt.xlabel('Longitude ($^o$)', fontsize = 13)\n",
    "plt.ylabel('Latitude ($^o$)', fontsize = 13)\n",
    "\n",
    "p2  = plt.scatter(np.array(ds['Longitude']), np.array(ds['Latitude']), s=5.0, c=np.array(ds['H (m)']), marker='.', cmap='terrain')\n",
    "cbar= plt.colorbar(p2, aspect=50, fraction = 0.02, orientation=\"horizontal\")\n",
    "cbar.set_label('Topography $ (m) $',fontsize=13, rotation = 0)\n",
    "plt.grid()\n",
    "plt.show()"
   ]
  },
  {
   "cell_type": "code",
   "execution_count": null,
   "metadata": {},
   "outputs": [],
   "source": [
    "## processameintu: Definicao dos novos ranges dos dados:\n",
    "# Etapa 01: seleção do range indesejavel:\n",
    "ds2 = ds.loc[ (ds['Longitude'] < -41.5) & (ds['Longitude'] > -44.0 ) ]"
   ]
  },
  {
   "cell_type": "code",
   "execution_count": null,
   "metadata": {},
   "outputs": [],
   "source": [
    "ds2"
   ]
  },
  {
   "cell_type": "code",
   "execution_count": null,
   "metadata": {},
   "outputs": [],
   "source": [
    "# ------------ set figure size: ------------------------------------------#\n",
    "plt.close('all')\n",
    "fig = plt.figure(figsize=(20,5), facecolor='w')\n",
    "plt.subplot(1,2,1)\n",
    "\n",
    "fig.suptitle('Removing outliers', fontsize=16)\n",
    "plt.xlabel('Longitude ($^o$)', fontsize = 13)\n",
    "plt.ylabel('Latitude ($^o$)', fontsize = 13)\n",
    "p1 = plt.scatter(np.array(ds2['Longitude']), np.array(ds2['Latitude']), s=5.0, c=np.array(ds2['BG (mGal)']), marker='*', cmap='RdBu_r')\n",
    "cbar = plt.colorbar(p1, aspect=50, fraction = 0.02, orientation=\"horizontal\")\n",
    "cbar.set_label('Gravity Anomaly $ (mGal) $',fontsize=13, rotation = 0)\n",
    "plt.grid()\n",
    "###########################################################################################################################\n",
    "\n",
    "plt.subplot(1,2,2)\n",
    "plt.xlabel('Longitude ($^o$)', fontsize = 13)\n",
    "plt.ylabel('Latitude ($^o$)', fontsize = 13)\n",
    "\n",
    "p2  = plt.scatter(np.array(ds2['Longitude']), np.array(ds2['Latitude']), s=5.0, c=np.array(ds2['H (m)']), marker='.', cmap='terrain')\n",
    "cbar= plt.colorbar(p2, aspect=50, fraction = 0.02, orientation=\"horizontal\")\n",
    "cbar.set_label('Topography $ (m) $',fontsize=13, rotation = 0)\n",
    "plt.grid()\n",
    "plt.show()"
   ]
  },
  {
   "cell_type": "code",
   "execution_count": null,
   "metadata": {},
   "outputs": [],
   "source": [
    "# associando os dados as variaveis mnemonicas para calculos posteriores:\n",
    "lon  = np.array(ds2['Longitude'])\n",
    "lat  = np.array(ds2['Latitude'])\n",
    "utmx = np.array(ds2['X (m)'])\n",
    "utmy = np.array(ds2['Y (m)']) \n",
    "elev = np.array(ds2['H (m)']) \n",
    "gz   = np.array(ds2['BG (mGal)'])"
   ]
  },
  {
   "cell_type": "code",
   "execution_count": null,
   "metadata": {},
   "outputs": [],
   "source": [
    "ds2"
   ]
  },
  {
   "cell_type": "code",
   "execution_count": null,
   "metadata": {},
   "outputs": [],
   "source": [
    "#ajustando o perfil a partir dos dados terrestres:\n",
    "# Construção da matriz A (chamada de matriz de sensiblidade)\n",
    "A = np.zeros( (np.size(lon),2) )\n",
    "\n",
    "#print np.shape(A)\n",
    "A[:,0] = lon\n",
    "A[:,1] = 1.0"
   ]
  },
  {
   "cell_type": "markdown",
   "metadata": {},
   "source": [
    "# Equação de minimos quadrados para ajustar o perfil que passa mais proximo aos pontos medidos:\n",
    "### $$\\mathbf{p} = (A^TA)^{-1}A^Ty$$\n",
    "\n",
    "# Ou ainda:\n",
    "### $$ (A^TA)~\\mathbf{p} = A^T y $$"
   ]
  },
  {
   "cell_type": "code",
   "execution_count": null,
   "metadata": {},
   "outputs": [],
   "source": [
    "# ------ minimos quadrados lineares --------:\n",
    "# Transposto:\n",
    "AT = np.transpose(A)\n",
    "\n",
    "# Multiplicação de MAtrizes (Aproximacao da Hessiana): \n",
    "ATA = np.matmul(AT,A)\n",
    "# construcao do lado direito do sistema (ATy):\n",
    "B = np.matmul(AT,lat)\n",
    "\n",
    "# Resolvendo o sistema linear montado via internal function linalg.solve():\n",
    "p = np.linalg.solve(ATA, B)\n",
    "\n",
    "# gerando valores de lat do perfil: y=ax+b:\n",
    "y = p[0]*lon + p[1] # sao os valores de latitude para o perfil."
   ]
  },
  {
   "cell_type": "code",
   "execution_count": null,
   "metadata": {},
   "outputs": [],
   "source": [
    "# interpolação pelo inverso da potencia da distancia para computar a anomalia da gravidade no perfil ajustado:\n",
    "gzi = inv_power_dist(lon, lat, gz, lon, y, 2.0)\n",
    "#gzi_reg = griddata( (lon_sat, lat_sat), (gz_sat), (lon,y), method=\"cubic\" )"
   ]
  },
  {
   "cell_type": "code",
   "execution_count": null,
   "metadata": {},
   "outputs": [],
   "source": [
    "# interpolacao da topografia para anexar ao arquivo de dados em perfil:\n",
    "elevi = inv_power_dist(lon, lat, elev, lon, y, 2.0)"
   ]
  },
  {
   "cell_type": "markdown",
   "metadata": {},
   "source": [
    "## <center> ------ Plot the raw data and the interpolated data in the profile ----------: <center>"
   ]
  },
  {
   "cell_type": "code",
   "execution_count": null,
   "metadata": {},
   "outputs": [],
   "source": [
    "# ------------ set figure size: ------------------------------------------#\n",
    "plt.close('all')\n",
    "\n",
    "#### ATENÇÃO À ESCALA DAS FIGURAS!!!!! #########\n",
    "fig = plt.figure(figsize=(20,7), facecolor='w')\n",
    "plt.subplot(2,1,1)\n",
    "\n",
    "plt.plot(lon,gzi,'*k', label='Interpolated')\n",
    "plt.plot(lon,gz,'+r', label='Raw')\n",
    "plt.xlabel('Longitude ($^o$)', fontsize = 13)\n",
    "plt.ylabel('Bouguer Anomaly $(mGal)$', fontsize = 13)\n",
    "plt.legend()\n",
    "plt.grid()\n",
    "###########################################################################################################################\n",
    "\n",
    "plt.subplot(2,1,2)\n",
    "plt.plot(lon,elevi,'*k', label='Interpolated')\n",
    "plt.plot(lon,elev,'*r', label='Raw')\n",
    "plt.xlabel('Longitude ($^o$)', fontsize = 13)\n",
    "plt.ylabel('Regional Bouguer Anomaly $(mGal)$', fontsize = 13)\n",
    "plt.legend()\n",
    "plt.grid()\n",
    "plt.show()"
   ]
  },
  {
   "cell_type": "code",
   "execution_count": null,
   "metadata": {},
   "outputs": [],
   "source": [
    "# SUbtracao do regional para obtencao do residual:\n",
    "gzi_res = gzi_reg - gzi"
   ]
  },
  {
   "cell_type": "code",
   "execution_count": null,
   "metadata": {},
   "outputs": [],
   "source": [
    "# plot dos dados:\n",
    "def drawstates(ax, shapefile='../dados_reais/brazil_shapefile/BRA_adm0.shp'):\n",
    "        shp = m.readshapefile(shapefile, 'states', drawbounds=True)\n",
    "        for nshape, seg in enumerate(m.states):\n",
    "            poly = Polygon(seg, facecolor='0.75', edgecolor='k')\n",
    "            ax.add_patch(poly)"
   ]
  },
  {
   "cell_type": "markdown",
   "metadata": {},
   "source": [
    "\n",
    "### Coordenadas x y da projeção cartográfica"
   ]
  },
  {
   "cell_type": "code",
   "execution_count": null,
   "metadata": {},
   "outputs": [],
   "source": [
    "# calculo da area onde serao plotadas as imagens:\n",
    "lon_min = np.min(lon_sat)\n",
    "lon_max = np.max(lon_sat)\n",
    "lat_min = np.min(lat_sat)\n",
    "lat_max = np.max(lat_sat)\n",
    "area = [lon_min, lon_max, lat_min, lat_max]\n",
    "print (area)"
   ]
  },
  {
   "cell_type": "markdown",
   "metadata": {},
   "source": [
    "## Plot gravity anomaly into georeferenced map using basemap function: "
   ]
  },
  {
   "cell_type": "code",
   "execution_count": null,
   "metadata": {},
   "outputs": [],
   "source": [
    "#%matplotlib inline\n",
    "#%%python2\n",
    "# ------------ set figure size: ------------------------------------------#\n",
    "plt.close('all')\n",
    "fig = plt.figure(figsize=(17,9), facecolor='w')\n",
    "\n",
    "# ------------------------- Define the center of the map -----------------------------------#  \n",
    "lon0 = 0.5*(area[0] + area[1])\n",
    "lat0 = 0.5*(area[2] + area[3])\n",
    "\n",
    "# ------- use basemap function to create the plot : ---------# \n",
    "m = Basemap(llcrnrlon=area[0],llcrnrlat=area[2],\n",
    "            urcrnrlon=area[1],urcrnrlat=-2., \n",
    "            resolution='l',projection='tmerc', \n",
    "            lon_0=lon0, lat_0=lat0,epsg=3395)\n",
    "\n",
    "\n",
    "#----------Drawing Lat Long: -------------#\n",
    "m.drawmeridians(range(0,360,1), labels=[0, 1, 0, 1], latmax=area[1])\n",
    "m.drawparallels(range(-90,90,1), labels=[1, 0, 1, 0],latmax=area[3])\n",
    "m.drawmapscale(-44.5, -3.8, lon_max, lat_max, 100, 'simple', fontcolor = 'w')\n",
    "\n",
    "#------------------Loading Shapefiles---------------#\n",
    "#m.readshapefile('brazil_shapefile/BRA_adm0', 'Brasil', drawbounds=True, linewidth=1)\n",
    "#m.readshapefile('Real/shapes/MatoGrossodoSul', 'MatoGrossodoSul', drawbounds=True, linewidth=1)\n",
    "#m.readshapefile('Real/shapes/Parana', 'Parana', drawbounds=True, linewidth=1)\n",
    "m.readshapefile('../dados_reais/shapeFiles/bacias/Limite_das_Bacias_Sedimentares', 'Limite_das_Bacias_Sedimentares', \n",
    "                drawbounds=True, linewidth=1)\n",
    "\n",
    "#--------------Background satellite image options-----------#\n",
    "\n",
    "#m.shadedrelief(scale=1)\n",
    "#m.etopo(scale=2)\n",
    "#m.bluemarble(scale=0.5)\n",
    "m.arcgisimage(service='ESRI_Imagery_World_2D', xpixels = 500, verbose= True)\n",
    "#m.arcgisimage(service='World_Shaded_Relief', xpixels = 500, ypixels= 500, verbose= True)\n",
    "\n",
    "# TODO: make a accurate scale for the map\n",
    "#---------------- Scaling the map---------------#\n",
    "#m.drawmapscale(lon0, area[0], area[1], area[3], 250, barstyle='fancy')\n",
    "\n",
    "\n",
    "# ---- Plot the profile data over the map as a scatter plot:\n",
    "k = m.scatter(lon, y, s=25.0, c=gzi, marker='.', cmap=plt.cm.RdBu_r, latlon=True)\n",
    "\n",
    "#----- colorbar specifications -----:\n",
    "cbar.set_label('Bouguer Anomaly $ (mGal) $',fontsize=12, rotation=90, )\n",
    "\n",
    "#------------------Anomaly map------------------#\n",
    "k = m.contourf(lon_sat, lat_sat, gz_sat, 20, tri=True, cmap='RdBu_r', \n",
    "               latlon=True, alpha=0.6, vmin=min(gz_sat), vmax=max(gz_sat) )\n",
    "\n",
    "#----- colorbar specifications -----:\n",
    "cbar = m.colorbar(k, location='bottom', size=\"5%\", pad=\"15%\")\n",
    "cbar.set_label('Bouguer Anomaly $ (mGal) $',fontsize=13, rotation=0)\n",
    "#-------------Add Title-----------------------#\n",
    "#plt.title('S ', fontsize=16, pad='10')\n",
    "#plt.savefig('barreirinhas_map.png', dpi=600, transparent=True, bbox_inches='tight')\n",
    "#plt.savefig('barreirinhas_map.pdf', dpi=600, transparent=True, bbox_inches='tight')\n",
    "plt.show()"
   ]
  },
  {
   "cell_type": "code",
   "execution_count": null,
   "metadata": {},
   "outputs": [],
   "source": [
    "# ------------ set figure size: ------------------------------------------#\n",
    "%matplotlib inline\n",
    "plt.close('all')\n",
    "fig = plt.figure(figsize=(17,9))\n",
    "\n",
    "# ------------------------- Define the center of the map -----------------------------------#  \n",
    "lon0 = 0.5*(area[0] + area[1])\n",
    "lat0 = 0.5*(area[2] + area[3])\n",
    "\n",
    "# ------- use basemap function to create the plot : ---------# \n",
    "m = Basemap(llcrnrlon=area[0],llcrnrlat=area[2],\n",
    "            urcrnrlon=area[1],urcrnrlat=-2., \n",
    "            resolution='l',projection='tmerc', \n",
    "            lon_0=lon0, lat_0=lat0,epsg=3395)\n",
    "\n",
    "\n",
    "#----------Drawing Lat Long: -------------#\n",
    "m.drawmeridians(range(0,360,1), labels=[0, 1, 0, 1], latmax=area[1])\n",
    "m.drawparallels(range(-90,90,1), labels=[1, 0, 1, 0],latmax=area[3])\n",
    "m.drawmapscale(-44.5, -3.8, lon_max, lat_max, 100, 'simple', fontcolor = 'w')\n",
    "\n",
    "#------------------Loading Shapefiles---------------#\n",
    "#m.readshapefile('brazil_shapefile/BRA_adm0', 'Brasil', drawbounds=True, linewidth=1)\n",
    "#m.readshapefile('Real/shapes/MatoGrossodoSul', 'MatoGrossodoSul', drawbounds=True, linewidth=1)\n",
    "#m.readshapefile('Real/shapes/Parana', 'Parana', drawbounds=True, linewidth=1)\n",
    "m.readshapefile('../dados_reais/shapeFiles/bacias/Limite_das_Bacias_Sedimentares', 'Limite_das_Bacias_Sedimentares', \n",
    "                drawbounds=True, linewidth=1)\n",
    "#--------------Background satellite image options-----------#\n",
    "\n",
    "#m.shadedrelief(scale=1)\n",
    "#m.etopo(scale=2)\n",
    "#m.bluemarble(scale=0.5)\n",
    "m.arcgisimage(service='ESRI_Imagery_World_2D', xpixels = 500, verbose= True)\n",
    "#m.arcgisimage(service='World_Shaded_Relief', xpixels = 500, ypixels= 500, verbose= True)\n",
    "\n",
    "# TODO: make a accurate scale for the map\n",
    "#---------------- Scaling the map---------------#\n",
    "#m.drawmapscale(lon0, area[0], area[1], area[3], 250, barstyle='fancy')\n",
    "\n",
    "\n",
    "# ---- Plot the profile data over the map as a scatter plot:\n",
    "k = m.scatter(lon, y, s=25.0, c=gzi, marker='.', cmap=plt.cm.coolwarm, latlon=True)\n",
    "#k = m.scatter(lon, lat, s=25.0, c=gz, marker='.', cmap=plt.cm.coolwarm, latlon=True)\n",
    "\n",
    "#----- colorbar specifications -----:\n",
    "cbar.set_label('Terrestrial Bouguer $ (mGal) $',fontsize=12, rotation=90, )\n",
    "\n",
    "#------------------Anomaly map------------------#\n",
    "#k = m.contourf(lon_sat, lat_sat, gz_sat, 20, tri=True, cmap=plt.cm.coolwarm, \n",
    "#               latlon=True, alpha=0.5, vmin=min(gz_sat), vmax=max(gz_sat) )\n",
    "\n",
    "#----- colorbar specifications -----:\n",
    "cbar = m.colorbar(k, location='bottom', size=\"5%\", pad=\"15%\")\n",
    "cbar.set_label('Bouguer Anomaly $ (mGal) $',fontsize=13, rotation=0)\n",
    "#-------------Add Title-----------------------#\n",
    "#plt.title('Gravity study of Barreirinhas Basin', fontsize=16, pad='10')\n",
    "#plt.savefig('barreirinhas_map2.png', dpi=600, transparent=True, bbox_inches='tight')\n",
    "#plt.savefig('barreirinhas_map2.pdf', dpi=600, transparent=True, bbox_inches='tight')\n",
    "plt.show()"
   ]
  },
  {
   "cell_type": "code",
   "execution_count": null,
   "metadata": {},
   "outputs": [],
   "source": [
    "# calculando a conversao dos dados do perfil para utm:\n",
    "size = len(lon)\n",
    "utmx = np.zeros( size )\n",
    "utmy = np.copy(utmx)\n",
    "\n",
    "for i in range(size):\n",
    "    # N = north, E = East\n",
    "    #print (i)\n",
    "   #if lon[i] > -42.0:        \n",
    "    XXX = utm.from_latlon( y[i], lon[i], force_zone_number=24 )\n",
    "    utmx[i], utmy[i] = XXX[1], XXX[0] \n",
    "    #else:\n",
    "    #    XXX = utm.from_latlon( y[i], lon[i], force_zone_number=23 )\n",
    "    #    utmy[i], utmx[i] = XXX[1], XXX[0]"
   ]
  },
  {
   "cell_type": "code",
   "execution_count": null,
   "metadata": {},
   "outputs": [],
   "source": [
    "# plot do perfil para verificacao:\n",
    "# ------------ set figure size: ------------------------------------------#\n",
    "plt.close('all')\n",
    "\n",
    "#### ATENÇÃO À ESCALA DAS FIGURAS!!!!! #########\n",
    "fig = plt.figure(figsize=(20,7), facecolor='w')\n",
    "plt.plot(utmy,utmx,'*k', label='Interpolated')\n",
    "plt.xlabel('UTMY ($m$)', fontsize = 13)\n",
    "plt.ylabel('UTMX $m$', fontsize = 13)\n",
    "plt.legend()\n",
    "plt.grid()\n"
   ]
  },
  {
   "cell_type": "code",
   "execution_count": null,
   "metadata": {},
   "outputs": [],
   "source": []
  },
  {
   "cell_type": "code",
   "execution_count": null,
   "metadata": {},
   "outputs": [],
   "source": [
    "# Salvando arquivo para georeferenciamento no mapa geológico de barreirinhas:\n",
    "g = {\"utmx\": utmx, 'utmy':utmy}\n",
    "type(g)\n",
    "geo_ref = pd.DataFrame( data=g )\n",
    "\n",
    "# salvando arquivo para georeferenciamento:\n",
    "geo_ref.to_csv('../dados_reais/Barreirinhas/xy_perfil.txt', sep = ' ', encoding='utf-8', index=False)"
   ]
  },
  {
   "cell_type": "markdown",
   "metadata": {},
   "source": [
    "## <center> Salvando arquivo com os dados em perfil: <center>"
   ]
  },
  {
   "cell_type": "code",
   "execution_count": null,
   "metadata": {},
   "outputs": [],
   "source": [
    "# Salvando arquivo para georeferenciamento no mapa geológico de barreirinhas:\n",
    "names = ['Utmx', 'Utmy', 'H(m)', 'mGal']\n",
    "g = {\"utmx\": utmx, 'utmy':utmy, \"H(m)\":elevi, \"mGal\": gzi}\n",
    "geo_ref = pd.DataFrame(g)\n",
    "#print geo_ref\n",
    "\n",
    "### TODO: verificar o por que o pandas coloca as colunas por ordem alfabética #####\n",
    "\n",
    "# salvando arquivo para georeferenciamento for ROD:\n",
    "geo_ref.to_csv('../dados_reais/Barreirinhas/barreirinhas_perfil.txt', sep = ' ', encoding='utf-8', index=False)\n",
    "\n",
    "# salvando arquivo para georeferenciamento for Mathews:\n",
    "#geo_ref.to_csv('../dados_reais/Barreirinhas/barreirinhas_perfil.txt', sep = ' ', encoding='utf-8', index=False)"
   ]
  },
  {
   "cell_type": "markdown",
   "metadata": {},
   "source": [
    "## <center> End of the script ! <center>"
   ]
  }
 ],
 "metadata": {
  "kernelspec": {
   "display_name": "Python 3",
   "language": "python",
   "name": "python3"
  },
  "language_info": {
   "codemirror_mode": {
    "name": "ipython",
    "version": 3
   },
   "file_extension": ".py",
   "mimetype": "text/x-python",
   "name": "python",
   "nbconvert_exporter": "python",
   "pygments_lexer": "ipython3",
   "version": "3.6.6"
  }
 },
 "nbformat": 4,
 "nbformat_minor": 2
}
