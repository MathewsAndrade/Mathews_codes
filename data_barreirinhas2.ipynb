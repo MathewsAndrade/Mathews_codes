{
 "cells": [
  {
   "cell_type": "markdown",
   "metadata": {},
   "source": [
    "## Script para plotagem dos dados gravimétricos terrestres referentes a Bacia de Barreirinhas (dados adquiridos por Nelson Delimar - Nielsen)"
   ]
  },
  {
   "cell_type": "code",
   "execution_count": null,
   "metadata": {
    "collapsed": true
   },
   "outputs": [],
   "source": [
    "# importando as bibliotecas necessarias para o uso do script:\n",
    "# import necessary library:\n",
    "import numpy as np\n",
    "import pylab as py\n",
    "from numpy.linalg import inv\n",
    "import matplotlib.pyplot as plt\n",
    "import pandas as pd\n",
    "from mpl_toolkits.basemap import Basemap\n",
    "from matplotlib.patches import Polygon\n",
    "from scipy.interpolate import Rbf # radial basis functions technique\n",
    "# to plot figures in cells:\n",
    "%matplotlib inline"
   ]
  },
  {
   "cell_type": "code",
   "execution_count": null,
   "metadata": {
    "collapsed": true
   },
   "outputs": [],
   "source": [
    "# importacao das funções externas ao anaconda:\n",
    "from modules.auxiliars import inv_power_dist\n",
    "from modules.maps import plota_mapa"
   ]
  },
  {
   "cell_type": "code",
   "execution_count": null,
   "metadata": {},
   "outputs": [],
   "source": [
    "# leitura dos dados via pandas e via numpy:\n",
    "# 1) dados do nielsen:\n",
    "data = pd.read_table('../../dados_reais/Barreirinhas/data_barreirinhas.txt')\n",
    "#print data\n",
    "\n",
    "# for Mathews PC:\n",
    "#data = pd.read_table('../dados_reais/data_barreirinhas.txt')\n",
    "\n",
    "\n",
    "# 2) dados de satelite (potzdam): \n",
    "lon_sat, lat_sat, gz_sat = np.loadtxt('../../dados_reais/Barreirinhas/barreirinhas_satelite.gdf', skiprows = 35, usecols = (0,1,3), unpack = True) \n",
    "\n",
    "# For Mathews PC:\n",
    "#lon_sat, lat_sat, gz_sat = np.loadtxt('../dados_reais/barreirinhas_satelite.gdf', skiprows = 35, usecols = (0,1,3), unpack = True) \n",
    "\n",
    "# variaveis para usar a funcao plota mapa:\n",
    "lon_sat = lon_sat -360.0  # correcao de quadrante "
   ]
  },
  {
   "cell_type": "code",
   "execution_count": null,
   "metadata": {},
   "outputs": [],
   "source": [
    "# leitura dos dados via pandas:\n",
    "#print sat\n",
    "# visualizacao da figura na tela:\n",
    "py.rcParams['figure.figsize'] = (20.0, 10.0)#Redimensiona a figura\n",
    "plt.plot(data.iloc[:,1], data.iloc[:,2], '+')\n",
    "plt.xlabel('Longitude (graus)')\n",
    "plt.ylabel('Latitude (graus)')\n",
    "plt.title('Dados Barreirinhas completo')"
   ]
  },
  {
   "cell_type": "code",
   "execution_count": null,
   "metadata": {
    "collapsed": true
   },
   "outputs": [],
   "source": [
    "# Remoçaõ de outliers dos dados: Etapa 01: seleção do range indesejavel:\n",
    "df = data.loc[(data['Longitude'] < -43.0)]        \n",
    "df = df.loc[(df['Latitude'] < -3.2)]\n",
    "#print df\n",
    "# remover as linhas armazenadas no array indices:\n",
    "df = data.drop(df.index.values)\n",
    "# por em ordem em função da longitude(coluna 2)\n",
    "ds = df.sort_values(by=['Longitude'], ascending=True)\n",
    "# remove valores repetidos em diferentes linhas:\n",
    "ds.drop_duplicates(['Longitude'], keep='first', inplace=True )\n",
    "#print ds.duplicated()\n",
    "#print data_sort.iloc[:,1]\n",
    "#print data_sort.iloc[0,1]\n",
    "# associando os dados as variaveis mnemonicas:\n",
    "lon = np.array(ds.iloc[:,1])\n",
    "lat = np.array(ds.iloc[:,2])\n",
    "utmx = np.array(ds.iloc[:,3])\n",
    "utmy = np.array(ds.iloc[:,4])\n",
    "elev = np.array(ds.iloc[:,5]) \n",
    "gz = np.array(ds.iloc[:,8])\n",
    "\n",
    "# salvando arquivo para georeferenciamento (for Rod):\n",
    "#ds.to_csv('../../dados_reais/Barreirinhas/caminhamento.csv', sep = ' ', encoding='utf-8')\n",
    "\n",
    "# salvando arquivo para georeferenciamento for Mathews:\n",
    "ds.to_csv('../dados_reais/caminhamento.csv', sep = ' ', encoding='utf-8')\n"
   ]
  },
  {
   "cell_type": "code",
   "execution_count": null,
   "metadata": {},
   "outputs": [],
   "source": [
    "# plot dos dados de barreirinhas:\n",
    "py.rcParams['figure.figsize'] = (20.0, 10.0)#Redimensiona a figura\n",
    "plt.plot(lon,lat,'*-k')"
   ]
  },
  {
   "cell_type": "code",
   "execution_count": null,
   "metadata": {
    "collapsed": true
   },
   "outputs": [],
   "source": [
    "#ajustando o perfil a partir dos dados terrestres:\n",
    "# etapa: leitura das coordenadas:\n",
    "x = lon\n",
    "y = lat\n",
    "# Construção da matriz A (chamada de matriz de sensiblidade)\n",
    "A = np.zeros( (np.size(x),2) )\n",
    "#print np.shape(A)\n",
    "A[:,0] = x\n",
    "A[:,1] = 1.0"
   ]
  },
  {
   "cell_type": "markdown",
   "metadata": {},
   "source": [
    "### Equação de minimos quadrados para ajustar o perfil que passa mais proximo aos pontos medidos:\n",
    "### $$\\mathbf{p} = (A^TA)^{-1}A^Ty$$"
   ]
  },
  {
   "cell_type": "code",
   "execution_count": null,
   "metadata": {},
   "outputs": [],
   "source": [
    "# minimos quadrados:\n",
    "# Transposto:\n",
    "AT = np.transpose(A)\n",
    "# Multiplicação de MAtrizes: \n",
    "ATA = np.matmul(AT,A)\n",
    "# Calculo da inversa de ATA:\n",
    "iATA = np.linalg.inv(ATA)\n",
    "# multiplicando por AT:\n",
    "iATA_AT = np.matmul(iATA,AT)\n",
    "# multiplicando por y:\n",
    "p = np.matmul(iATA_AT,y)\n",
    "print p\n",
    "# gerando valores de lat do perfil: y=ax+b:\n",
    "yr = p[0]*x + p[1] # sao os valores de latitude para o perfil."
   ]
  },
  {
   "cell_type": "code",
   "execution_count": null,
   "metadata": {},
   "outputs": [],
   "source": [
    "# interpolação pelo inverso da potencia da distancia para computar a anomalia da gravidade no perfil ajustado:\n",
    "gzi = inv_power_dist(lon,lat,gz,x,yr,2.0)\n",
    "plt.plot(x,gzi,'*k')\n",
    "plt.plot(x,gz,'+r')\n",
    "#plt.plot(lon,gz,'ro')"
   ]
  },
  {
   "cell_type": "code",
   "execution_count": null,
   "metadata": {
    "collapsed": true
   },
   "outputs": [],
   "source": [
    "### Interpolaçao para calcular a anomalia da gravidade nos pontos do perfil:\n",
    "#interpolator = Rbf(utmx,utmy,gz,function='Gaussian')\n",
    "# interpolacao dos gzs para os pontos do perfil:\n",
    "#gzi = interpolator(utmx,yr)\n",
    "# verificacao:\n",
    "#print gz.shape, gzi.shape"
   ]
  },
  {
   "cell_type": "code",
   "execution_count": null,
   "metadata": {
    "collapsed": true
   },
   "outputs": [],
   "source": [
    "# plot dos dados:\n",
    "def drawstates(ax, shapefile='../../dados_reais/brazil_shapefile/BRA_adm0.shp'):\n",
    "        shp = m.readshapefile(shapefile, 'states', drawbounds=True)\n",
    "        for nshape, seg in enumerate(m.states):\n",
    "            poly = Polygon(seg, facecolor='0.75', edgecolor='k')\n",
    "            ax.add_patch(poly)"
   ]
  },
  {
   "cell_type": "markdown",
   "metadata": {
    "collapsed": true
   },
   "source": [
    "\n",
    "### Coordenadas x y da projeção cartográfica"
   ]
  },
  {
   "cell_type": "code",
   "execution_count": null,
   "metadata": {},
   "outputs": [],
   "source": [
    "# calculo da area onde serao plotadas as imagens:\n",
    "long_min = np.min(lon_sat)\n",
    "long_max = np.max(lon_sat)\n",
    "lat_min = np.min(lat_sat)\n",
    "lat_max = np.max(lat_sat)\n",
    "\n",
    "long_central = 0.5*(long_max + long_min)\n",
    "lat_central = 0.5*(lat_max + lat_min)\n",
    "area = [long_min, long_max,\n",
    "        lat_min, lat_max]\n",
    "print (area)\n",
    "\n",
    "#area = [-45.0, -40.0, -4.0, -2.6]\n",
    "long0 = 0.5*(area[0] + area[1])\n",
    "lat0 = 0.5*(area[2] + area[3])\n",
    "#print(long0,lat0)"
   ]
  },
  {
   "cell_type": "code",
   "execution_count": null,
   "metadata": {},
   "outputs": [],
   "source": [
    "# para uma regiao delimitada:\n",
    "m = Basemap(llcrnrlon=area[0],llcrnrlat=area[2],\n",
    "            urcrnrlon=area[1],urcrnrlat=area[3],\n",
    "            resolution='i',projection='poly',\n",
    "            lon_0=long0,lat_0=lat0)\n",
    "m.drawcountries()\n",
    "m.fillcontinents(color = 'coral')\n",
    "m.drawmapboundary()\n",
    "# plot dos dados sobrepostos ao mapa da região:\n",
    "# posicao geográfica dos dados reais:\n",
    "xd,yd = m(lon, lat)\n",
    "# posição geográfica dos dados no perfil:\n",
    "xi,yi = m(lon, yr)\n",
    "# plot do ambos no mapa:\n",
    "m.plot(xd, yd, 'b.', markersize=3)\n",
    "m.plot(xi,yi,'k.', markersize=3)\n",
    "plt.show() "
   ]
  },
  {
   "cell_type": "code",
   "execution_count": null,
   "metadata": {},
   "outputs": [],
   "source": [
    "print ('x min.  = %12.5f km' % (np.min(utmx)*0.001) )\n",
    "print ('x medio = %12.5f km' % (np.mean(utmx)*0.001) )\n",
    "print ('x max.  = %12.5f km' % (np.max(utmx)*0.001) )\n",
    "print ('x var.  = %12.5f km' % ((np.max(utmx) - np.min(utmx))*0.001) )\n",
    "print ('y min.  = %12.5f km' % (np.min(utmy)*0.001) )\n",
    "print ('y medio = %12.5f km' % (np.mean(utmy)*0.001) )\n",
    "print ('y max.  = %12.5f km' % (np.max(utmy)*0.001) )\n",
    "print ('y var.  = %12.5f km' % ((np.max(utmy) - np.min(utmy))*0.001) )"
   ]
  },
  {
   "cell_type": "code",
   "execution_count": null,
   "metadata": {},
   "outputs": [],
   "source": [
    "# plot do mapa \n",
    "# extermos do ṕerfil:\n",
    "\n",
    "xx,yy = m(lon_sat,lat_sat)\n",
    "\n",
    "# criação da matrix com o perfil ajustado:\n",
    "npr = np.size(lon) # dimensao do array com os pontos do perfil criado\n",
    "lon_perfil = [ lon[0], lon[npr-1] ]\n",
    "lat_perfil = [ yr[0], yr[npr-1] ]\n",
    "#print lat_perfil\n",
    "# transformação em array:\n",
    "lon_perfil = np.array(lon_perfil)\n",
    "lat_perfil = np.array(lat_perfil)\n",
    "# CONVERSAO para utm:\n",
    "p1, p2 = m(lon_perfil, lat_perfil)\n",
    "perfil = np.transpose([p1,p2])\n",
    "#print range(0,perfil.shape[0],2)      \n",
    "print perfil.shape[0]              \n",
    "plota_mapa(m, xx, yy, gz_sat, area, 'mGal', 'Gravity anomaly', 'gist_earth', \n",
    "              (18, 12), 30., perfil, estados=None, escala=True, eixos=True)"
   ]
  },
  {
   "cell_type": "code",
   "execution_count": null,
   "metadata": {
    "collapsed": true
   },
   "outputs": [],
   "source": [
    "#### conversao das coordenadas para utm através da funcao basemap:\n",
    "xd,yd = m(x, yr)\n",
    "# convertendo para array:\n",
    "xd = np.array(xd)\n",
    "yd = np.array(yd)\n",
    "# converter para kilometro (para utilizar no programa dir_basin_2D - Rao et.all., 1994):\n",
    "xd = xd/1000.0\n",
    "yd = yd/1000.0\n",
    "elev = elev/1000. # conversao da elevacao de metros para kilometros:"
   ]
  },
  {
   "cell_type": "code",
   "execution_count": null,
   "metadata": {},
   "outputs": [],
   "source": [
    "# Salvando arquivo para georeferenciamento no mapa geológico de barreirinhas:\n",
    "g = {'longitude': lon, 'latitude': yr}\n",
    "geo_ref = pd.DataFrame(g)\n",
    "\n",
    "# salvando arquivo para georeferenciamento for ROD:\n",
    "#geo_ref.to_csv('../../dados_reais/Barreirinhas/caminhamento_perfil.csv', sep = ' ', encoding='utf-8')\n",
    "\n",
    "# salvando arquivo para georeferenciamento for Mathews:\n",
    "geo_ref.to_csv('../dados_reais/caminhamento_perfil.csv', sep = ' ', encoding='utf-8')\n"
   ]
  },
  {
   "cell_type": "code",
   "execution_count": null,
   "metadata": {
    "collapsed": true
   },
   "outputs": [],
   "source": [
    "# escrevendo o arquivo com os dados do perfil:\n",
    "np.savetxt('../dados_reais/barreirinhas_perfil.txt', np.transpose( (xd, yd, elev, gzi) ), fmt = '%10.7f', delimiter = '   ',  header = 'x(km)      y(km)        elev(km)      g_anom(mGal)')\n",
    "\n",
    "# For Mathews PC:\n",
    "#np.savetxt('../dados_reais/barreirinhas_perfil.txt', np.transpose( (xd, yd, elev, gzi) ), fmt = '%10.7f', delimiter = '   ',  header = 'x(km)      y(km)        elev(km)      g_anom(mGal)')\n"
   ]
  }
 ],
 "metadata": {
  "kernelspec": {
   "display_name": "Python 2",
   "language": "python",
   "name": "python2"
  },
  "language_info": {
   "codemirror_mode": {
    "name": "ipython",
    "version": 2
   },
   "file_extension": ".py",
   "mimetype": "text/x-python",
   "name": "python",
   "nbconvert_exporter": "python",
   "pygments_lexer": "ipython2",
   "version": "2.7.14"
  }
 },
 "nbformat": 4,
 "nbformat_minor": 1
}
