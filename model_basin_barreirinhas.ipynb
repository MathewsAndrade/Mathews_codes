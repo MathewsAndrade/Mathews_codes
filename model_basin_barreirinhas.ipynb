{
 "cells": [
  {
   "cell_type": "markdown",
   "metadata": {},
   "source": [
    "### Script de modelagem direta da bacia de barreirinhas - dados grav adquiridos por Nelson Delimar"
   ]
  },
  {
   "cell_type": "code",
   "execution_count": null,
   "metadata": {},
   "outputs": [],
   "source": [
    "# importando pacotes necessarios:\n",
    "import numpy as np # pacote numerico\n",
    "import pylab as py \n",
    "#from numpy.linalg import inv # pacote de algebra linear\n",
    "import matplotlib.pyplot as plt # pacote de plotagem\n",
    "#import pandas as pd # pacode de tratamento de dados \n",
    "#from mpl_toolkits.basemap import Basemap\n",
    "#from matplotlib.patches import Polygon\n",
    "#from scipy.interpolate import Rbf # radial basis functions technique\n",
    "#para plotar as figuras nas celulas do jupyter notebook:\n",
    "\n",
    "#%matplotlib inline\n",
    "%matplotlib tk\n",
    "#plt.plot ([1,2])"
   ]
  },
  {
   "cell_type": "markdown",
   "metadata": {},
   "source": [
    "### Importando os pacotes com as nossas funcoes:"
   ]
  },
  {
   "cell_type": "code",
   "execution_count": null,
   "metadata": {},
   "outputs": [],
   "source": [
    "from modules.iplots import pick_points # para fazer o plot interativo\n",
    "from modules.gravity import grav2D_anom # funcao que calcula dados de gravidade (rao 1994)"
   ]
  },
  {
   "cell_type": "markdown",
   "metadata": {},
   "source": [
    "### Leitura dos dados reais do perfil de Barreirinhas:"
   ]
  },
  {
   "cell_type": "code",
   "execution_count": null,
   "metadata": {
    "scrolled": true
   },
   "outputs": [],
   "source": [
    "# leitura no script do pc do bijani:\n",
    "#x_utm, y_utm, elev, gz = np.loadtxt('../../dados_reais/Barreirinhas/barreirinhas_perfil.txt', skiprows=1 , usecols = (0,1,2,3), unpack = True)\n",
    "x_utm, y_utm, elev, gz = np.loadtxt('../dados_reais/Barreirinhas/barreirinhas_perfil.txt', \n",
    "                                    skiprows=1 , usecols = (0,1,2,3), unpack = True)\n",
    "\n",
    "# leitura no script no pc do mathews:\n",
    "#x_utm, y_utm, elev, gz = np.loadtxt('../dados_reais/barreirinhas_perfil.txt', skiprows=1 , usecols = (0,1,2,3), unpack = True)\n",
    "\n",
    "#alterando o sinal de elev devido a mudança da referencia do eixo z (positivo para baixo):\n",
    "elev = -elev                                   "
   ]
  },
  {
   "cell_type": "code",
   "execution_count": null,
   "metadata": {},
   "outputs": [],
   "source": [
    "# Plot dos dados para verificação:\n",
    "%matplotlib tk\n",
    "plt.figure(figsize=(12,9))\n",
    "plt.plot(x_utm, gz,'*r')\n",
    "plt.title ('Gravity Data (mGal)', fontsize = 16)\n",
    "plt.xlabel ('UTM x(m)', fontsize = 14)\n",
    "plt.ylabel ('Gravity Anomaly (mGal)', fontsize = 14)"
   ]
  },
  {
   "cell_type": "markdown",
   "metadata": {},
   "source": [
    "### Definicao da area de plot do modelo:"
   ]
  },
  {
   "cell_type": "code",
   "execution_count": null,
   "metadata": {},
   "outputs": [],
   "source": [
    "area= []\n",
    "xmin = np.min (x_utm)\n",
    "xmax = np.max (x_utm)\n",
    "zmin = np.min ( (elev) )\n",
    "zmax = 4.0 #profundidade da bacia em km\n",
    "print zmin\n",
    "area = [xmin, xmax, zmin, zmax]\n",
    "\n",
    "#print area"
   ]
  },
  {
   "cell_type": "markdown",
   "metadata": {},
   "source": [
    "### Criacao do modelo de bacia atraves dos clicks na area de plot: "
   ]
  },
  {
   "cell_type": "code",
   "execution_count": null,
   "metadata": {},
   "outputs": [],
   "source": [
    "axes = plt.figure().add_subplot(1,1,1)\n",
    "xv,zv = pick_points(area, axes, marker='o', color='k', size=8, xy2ne=False)"
   ]
  },
  {
   "cell_type": "markdown",
   "metadata": {},
   "source": [
    "### calculo da anomalia de gravidade produzido pelo modelo de bacia (artigo do Rao et. al., 1994):"
   ]
  },
  {
   "cell_type": "code",
   "execution_count": null,
   "metadata": {},
   "outputs": [],
   "source": [
    "# info da propriedade fisica:\n",
    "delta_rho = -1.90 #(g/cm³)#Densidade do arenito\n",
    "beta = 3.12\n",
    "# convertendo para SI(kg/m³):\n",
    "rho_ref = 3.0 # densidade do embasamento (checar!)\n",
    "rho = delta_rho + rho_ref\n",
    "rho = rho * 1000.0 \n",
    "print rho"
   ]
  },
  {
   "cell_type": "code",
   "execution_count": null,
   "metadata": {},
   "outputs": [],
   "source": [
    "#Criacao de variaveis necessarias para o calculo da anomalia:\n",
    "nv = np.size (xv)\n",
    "#print nv\n",
    "nper = np.size (x_utm)\n",
    "#print nper\n",
    "# calculo da anomalia grav atraves de rao1994:\n",
    "xd = np.zeros( (nv,) )\n",
    "zd = np.zeros( (nv,) )\n",
    "grav = np.zeros( (nper,) )\n",
    "for i in range(nper):\n",
    "    for j in range(nv):\n",
    "        xd[j] = ( xv[j] - x_utm[i])\n",
    "        zd[j] = (zv[j] - elev[i])\n",
    "    # chamando a funcao do rao 1994:\n",
    "    grav[i] = grav2D_anom(xd,zd,delta_rho,beta)\n",
    "    \n",
    "print grav"
   ]
  },
  {
   "cell_type": "markdown",
   "metadata": {},
   "source": [
    "### Plot do modelo atual + os dados reais para comparação:"
   ]
  },
  {
   "cell_type": "code",
   "execution_count": null,
   "metadata": {},
   "outputs": [],
   "source": [
    "plt.clear()\n",
    "plt.plot(x_utm,gz,'.k', label='observed data')\n",
    "plt.plot(x_utm,grav,'.r', label='predicted data')\n",
    "plt.legend()\n",
    "plt.grid()\n",
    "plt.title ('Gravity Data (mGal)', fontsize = 16)\n",
    "plt.xlabel ('UTM x(m)', fontsize = 14)\n",
    "plt.ylabel ('Gravity Anomaly (mGal)', fontsize = 14)\n",
    "plt.show()"
   ]
  },
  {
   "cell_type": "markdown",
   "metadata": {},
   "source": [
    "# Criacao de um branch para nao perder clicks promissores!!!!!!"
   ]
  },
  {
   "cell_type": "code",
   "execution_count": null,
   "metadata": {},
   "outputs": [],
   "source": [
    "## criacao do branch --- variaveis guardadas para nao perder cliques promissores!\n",
    "### SOMENTE RODAR ESSA CELULA EM CASO DE MELHORIAS SIGNFICATIVAS NOS CLICKS!!!!\n",
    "x_branch = np.copy(xv)\n",
    "y_branch = np.copy(zv)\n",
    "gz_branch = np.copy(grav)\n",
    "\n",
    "### TODO:: Gerar um arquivo com as variaveis branch para backup de clicks promissoes!"
   ]
  },
  {
   "cell_type": "code",
   "execution_count": null,
   "metadata": {},
   "outputs": [],
   "source": [
    "# ---- comparacao entre o dado branch vs o ultimo click-----:\n",
    "plt.clear()\n",
    "plt.plot(x_utm, grav,'.k', label='observed data')\n",
    "plt.plot(x_utm, gz_branch,'.m', label='branch data')\n",
    "plt.legend()\n",
    "plt.grid()\n",
    "plt.title ('Gravity Data (mGal)', fontsize = 16)\n",
    "plt.xlabel ('UTM x(m)', fontsize = 14)\n",
    "plt.ylabel ('Gravity Anomaly (mGal)', fontsize = 14)\n",
    "plt.show()"
   ]
  }
 ],
 "metadata": {
  "kernelspec": {
   "display_name": "Python 2",
   "language": "python",
   "name": "python2"
  },
  "language_info": {
   "codemirror_mode": {
    "name": "ipython",
    "version": 2
   },
   "file_extension": ".py",
   "mimetype": "text/x-python",
   "name": "python",
   "nbconvert_exporter": "python",
   "pygments_lexer": "ipython2",
   "version": "2.7.15"
  }
 },
 "nbformat": 4,
 "nbformat_minor": 2
}
