{
 "cells": [
  {
   "cell_type": "markdown",
   "metadata": {},
   "source": [
    "### Script de modelagem direta da bacia de barreirinhas - dados grav adquiridos por Nelson Delimar"
   ]
  },
  {
   "cell_type": "code",
   "execution_count": 1,
   "metadata": {},
   "outputs": [],
   "source": [
    "# importando pacotes necessarios:\n",
    "import numpy as np # pacote numerico\n",
    "import pylab as py \n",
    "#from numpy.linalg import inv # pacote de algebra linear\n",
    "import matplotlib.pyplot as plt # pacote de plotagem\n",
    "#import pandas as pd # pacode de tratamento de dados \n",
    "#from mpl_toolkits.basemap import Basemap\n",
    "#from matplotlib.patches import Polygon\n",
    "#from scipy.interpolate import Rbf # radial basis functions technique\n",
    "#para plotar as figuras nas celulas do jupyter notebook:\n",
    "from matplotlib.path import Path\n",
    "from matplotlib.patches import PathPatch\n",
    "#%matplotlib inline\n",
    "%matplotlib tk\n",
    "#plt.plot ([1,2])"
   ]
  },
  {
   "cell_type": "markdown",
   "metadata": {},
   "source": [
    "### Importando os pacotes com as nossas funcoes:"
   ]
  },
  {
   "cell_type": "code",
   "execution_count": null,
   "metadata": {},
   "outputs": [],
   "source": [
    "from modules.iplots import pick_points # para fazer o plot interativo\n",
    "from modules.gravity import grav2D_anom # funcao que calcula dados de gravidade (rao 1994)"
   ]
  },
  {
   "cell_type": "markdown",
   "metadata": {},
   "source": [
    "### Leitura dos dados reais do perfil de Barreirinhas:"
   ]
  },
  {
   "cell_type": "code",
   "execution_count": null,
   "metadata": {
    "scrolled": true
   },
   "outputs": [],
   "source": [
    "# leitura no script do pc do bijani:\n",
    "#x_utm, y_utm, elev, gz = np.loadtxt('../../dados_reais/Barreirinhas/barreirinhas_perfil.txt', skiprows=1 , usecols = (0,1,2,3), unpack = True)\n",
    "elev, gz, x_utm, y_utm = np.loadtxt('../dados_reais/Barreirinhas/barreirinhas_perfil.txt', \n",
    "                                    skiprows=1 , usecols = (0,1,2,3), unpack = True)\n",
    "\n",
    "# leitura no script no pc do mathews:\n",
    "#x_utm, y_utm, elev, gz = np.loadtxt('../dados_reais/barreirinhas_perfil.txt', skiprows=1 , usecols = (0,1,2,3), unpack = True)\n",
    "\n",
    "#alterando o sinal de elev devido a mudança da referencia do eixo z (positivo para baixo):\n",
    "elev = -elev                                   "
   ]
  },
  {
   "cell_type": "code",
   "execution_count": null,
   "metadata": {},
   "outputs": [],
   "source": [
    "# Plot dos dados para verificação:\n",
    "plt.figure(figsize=(15,7))\n",
    "\n",
    "plt.scatter(x_utm,gz,s=5.0,c=gz,marker='*', cmap=plt.cm.coolwarm)\n",
    "#plt.plot(x_utm, gz,'*r')\n",
    "#plt.title ('Gravity Data (mGal)', fontsize = 16)\n",
    "plt.xlabel ('UTM x(m)', fontsize = 14)\n",
    "plt.ylabel ('Bouguer Anomaly (mGal)', fontsize = 14)\n",
    "plt.grid()\n",
    "plt.savefig('Bouguer.png', dpi=300, transparent=True, bbox_inches=\"tight\" )\n",
    "plt.show()"
   ]
  },
  {
   "cell_type": "markdown",
   "metadata": {},
   "source": [
    "### Definicao da area de plot do modelo:"
   ]
  },
  {
   "cell_type": "code",
   "execution_count": null,
   "metadata": {},
   "outputs": [],
   "source": [
    "area= []\n",
    "xmin = np.min(x_utm)\n",
    "xmax = np.max(x_utm)\n",
    "zmin = np.min( (elev) ) #-100.0\n",
    "#zmax = 3.0 #profundidade da bacia em km (entradas do rao et al., 1994 em Km)\n",
    "zmax = 2000.0 #adaptado para metros !\n",
    "print zmin\n",
    "area = [xmin, xmax, zmin, zmax]\n",
    "print area"
   ]
  },
  {
   "cell_type": "markdown",
   "metadata": {},
   "source": [
    "### Criacao do modelo de bacia atraves dos clicks na area de plot: "
   ]
  },
  {
   "cell_type": "code",
   "execution_count": null,
   "metadata": {},
   "outputs": [],
   "source": [
    "%matplotlib tk \n",
    "axes = plt.figure().add_subplot(1,1,1)\n",
    "xv,zv = pick_points(area, axes, marker='o', color='k', size=8, xy2ne=False)"
   ]
  },
  {
   "cell_type": "markdown",
   "metadata": {},
   "source": [
    "### calculo da anomalia de gravidade produzido pelo modelo de bacia (artigo do Rao et. al., 1994):"
   ]
  },
  {
   "cell_type": "code",
   "execution_count": null,
   "metadata": {},
   "outputs": [],
   "source": [
    "# info da propriedade fisica:\n",
    "delta_rho = -0.80 #(g/cm³)# contraste de Densidade do arenito em relacao ao embasamento local no topo da bacia!\n",
    "beta = 3.12\n",
    "# convertendo para SI(kg/m³):\n",
    "rho_ref = 3.0 # densidade do embasamento (checar!)\n",
    "rho = delta_rho + rho_ref\n",
    "#rho = rho * 1000.0 \n",
    "print 'densidade no topo da bacia=', rho"
   ]
  },
  {
   "cell_type": "code",
   "execution_count": null,
   "metadata": {},
   "outputs": [],
   "source": [
    "#Criacao de variaveis necessarias para o calculo da anomalia:\n",
    "nv = np.size (xv)\n",
    "#print nv\n",
    "nper = np.size (x_utm)\n",
    "#print nper\n",
    "# calculo da anomalia grav atraves de rao1994:\n",
    "xd = np.zeros( (nv,) )\n",
    "zd = np.zeros( (nv,) )\n",
    "grav = np.zeros( (nper,) )\n",
    "for i in range(nper):\n",
    "    for j in range(nv):\n",
    "        xd[j] = ( xv[j] - x_utm[i])/1000.0\n",
    "        zd[j] = (zv[j]- elev[i])/1000.0\n",
    "    # chamando a funcao do rao 1994:\n",
    "    grav[i] = grav2D_anom(xd,zd,delta_rho,beta)"
   ]
  },
  {
   "cell_type": "code",
   "execution_count": null,
   "metadata": {},
   "outputs": [],
   "source": [
    "#######################################################\n",
    "# computing hyperbolic density function\n",
    "########################################################\n",
    "z = np.linspace( np.amin(zv), np.amax(zv), np.size(zv) )\n",
    "z = z/1000.0\n",
    "\n",
    "rhoz = delta_rho*beta**2/(beta + z)**2\n",
    "#rhoz = rhoz + 2.670"
   ]
  },
  {
   "cell_type": "code",
   "execution_count": null,
   "metadata": {},
   "outputs": [],
   "source": [
    "# plot of the density distribution:\n",
    "fig = plt.figure(figsize=(7,7))\n",
    "\n",
    "# definition of fontsize:\n",
    "fs = 15 \n",
    "# invert axis\n",
    "plt.gca().invert_yaxis()\n",
    "plt.gca().invert_xaxis()\n",
    "\n",
    "# set labelsize \n",
    "plt.tick_params(axis='y', labelsize=fs-2)\n",
    "plt.tick_params(axis='x', labelsize=fs-2,labelbottom='off',labeltop='on')\n",
    "\n",
    "plt.text(rhoz[0]+0.01, z[0]+0.148, str( format(rhoz[0],'.3f') ), style='italic',\n",
    "        bbox={'facecolor':'red', 'alpha':0.5, 'pad':10})\n",
    "\n",
    "plt.plot(rhoz,z,'k-',linewidth=2.0)\n",
    "plt.plot(rhoz[0],z[0],'ro',linewidth=2.0)\n",
    "plt.grid()\n",
    "plt.xlabel(r'Density contrast $(g/cm^3)$',fontsize=fs)\n",
    "plt.ylabel(r'Depth $(km)$',fontsize=fs)\n",
    "plt.axis([np.max(rhoz)+0.05, np.min(rhoz)-0.02, np.max(z)+0.1, np.min(z)-0.1])\n",
    "plt.savefig('density.png', dpi=300, transparent=True, bbox_inches=\"tight\" )\n",
    "plt.show()\n",
    "#############################################################################################################"
   ]
  },
  {
   "cell_type": "code",
   "execution_count": null,
   "metadata": {},
   "outputs": [],
   "source": [
    "# and the modeled basin:\n",
    "\n",
    "fig = plt.figure(figsize=(14,8))\n",
    "path = Path(np.array([xv,zv]).transpose())\n",
    "patch = PathPatch(path, facecolor='none')\n",
    "\n",
    "plt.gca().add_patch(patch)\n",
    "plt.plot(xv,zv,'k-o')\n",
    "# plot the last and the first corner to close up the polygon:\n",
    "fs = 18 # font size for the label\n",
    "plt.gca().invert_yaxis()\n",
    "plt.xlabel(r'UTM x $(m)$',fontsize=fs)\n",
    "plt.ylabel(r'Depth $(m)$',fontsize=fs)\n",
    "plt.xlim([np.min(xv), np.max(xv)])\n",
    "\n",
    "##################################################################\n",
    "# plot the density variation together with the basin:\n",
    "##################################################################\n",
    "\n",
    "im = plt.imshow(rhoz.reshape(np.size(zv),1),  cmap=plt.cm.Wistia,interpolation=\"bicubic\",\n",
    "                origin='lower',extent=[min(xv), max(xv), min(zv), max(zv)],aspect=\"auto\", clip_path=patch, clip_on=True)\n",
    "#im.set_clip_path(patch)\n",
    "\n",
    "# OBS:::::: para reverter a escala de cores, basta um simples \"_r\" ! sucesso de vida!!!!\n",
    "plt.gca().invert_yaxis()\n",
    "cbar = plt.colorbar()\n",
    "cbar.ax.set_ylabel(r'Density constrast in $g/cm^3$', fontsize=fs)\n",
    "\n",
    "# Mat, verificar!!!!!!\n",
    "#plt.savefig(\"basin01.png\", dpi=300, transparent=True, bbox_inches='tight')\n",
    "plt.show()"
   ]
  },
  {
   "cell_type": "markdown",
   "metadata": {},
   "source": [
    "### Plot do modelo atual + os dados reais para comparação:"
   ]
  },
  {
   "cell_type": "code",
   "execution_count": null,
   "metadata": {},
   "outputs": [],
   "source": [
    "plt.plot(x_utm,gz,'.k', label='observed data')\n",
    "plt.plot(x_utm,grav,'.r', label='predicted data')\n",
    "plt.legend()\n",
    "plt.grid()\n",
    "plt.title ('Gravity Data (mGal)', fontsize = 16)\n",
    "plt.xlabel ('UTM x(m)', fontsize = 14)\n",
    "plt.ylabel ('Gravity Anomaly (mGal)', fontsize = 14)\n",
    "plt.show()"
   ]
  },
  {
   "cell_type": "markdown",
   "metadata": {},
   "source": [
    "# Criacao de um branch para nao perder clicks promissores!!!!!!"
   ]
  },
  {
   "cell_type": "code",
   "execution_count": null,
   "metadata": {},
   "outputs": [],
   "source": [
    "## criacao do branch --- variaveis guardadas para nao perder cliques promissores!\n",
    "### SOMENTE RODAR ESSA CELULA EM CASO DE MELHORIAS SIGNFICATIVAS NOS CLICKS!!!!\n",
    "x_branch = np.copy(xv)\n",
    "y_branch = np.copy(zv)\n",
    "gz_branch = np.copy(grav)\n",
    "\n",
    "### TODO:: Gerar um arquivo com as variaveis branch para backup de clicks promissoes!"
   ]
  },
  {
   "cell_type": "code",
   "execution_count": null,
   "metadata": {},
   "outputs": [],
   "source": [
    "# ---- comparacao entre o dado branch vs o ultimo click-----:\n",
    "plt.plot(x_utm, grav,'.k', label='observed data')\n",
    "plt.plot(x_utm, gz_branch,'.m', label='branch data')\n",
    "plt.legend()\n",
    "plt.grid()\n",
    "plt.title ('Gravity Data (mGal)', fontsize = 16)\n",
    "plt.xlabel ('UTM x(m)', fontsize = 14)\n",
    "plt.ylabel ('Gravity Anomaly (mGal)', fontsize = 14)\n",
    "plt.show()"
   ]
  },
  {
   "cell_type": "code",
   "execution_count": null,
   "metadata": {},
   "outputs": [],
   "source": []
  }
 ],
 "metadata": {
  "kernelspec": {
   "display_name": "Python 2",
   "language": "python",
   "name": "python2"
  },
  "language_info": {
   "codemirror_mode": {
    "name": "ipython",
    "version": 2
   },
   "file_extension": ".py",
   "mimetype": "text/x-python",
   "name": "python",
   "nbconvert_exporter": "python",
   "pygments_lexer": "ipython2",
   "version": "2.7.15"
  }
 },
 "nbformat": 4,
 "nbformat_minor": 2
}
