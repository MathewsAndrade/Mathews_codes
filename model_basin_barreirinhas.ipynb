{
 "cells": [
  {
   "cell_type": "markdown",
   "metadata": {},
   "source": [
    "### Script de modelagem direta da bacia de barreirinhas - dados grav adquiridos por Nelson Delimar"
   ]
  },
  {
   "cell_type": "code",
   "execution_count": 1,
   "metadata": {},
   "outputs": [],
   "source": [
    "# importando pacotes necessarios:\n",
    "import numpy as np # pacote numerico\n",
    "import pylab as py \n",
    "#from numpy.linalg import inv # pacote de algebra linear\n",
    "import matplotlib.pyplot as plt # pacote de plotagem\n",
    "#import pandas as pd # pacode de tratamento de dados \n",
    "#from mpl_toolkits.basemap import Basemap\n",
    "#from matplotlib.patches import Polygon\n",
    "#from scipy.interpolate import Rbf # radial basis functions technique\n",
    "#para plotar as figuras nas celulas do jupyter notebook:\n",
    "\n",
    "#%matplotlib inline\n",
    "%matplotlib tk\n",
    "#plt.plot ([1,2])"
   ]
  },
  {
   "cell_type": "markdown",
   "metadata": {},
   "source": [
    "### Importando os pacotes com as nossas funcoes:"
   ]
  },
  {
   "cell_type": "code",
   "execution_count": 2,
   "metadata": {},
   "outputs": [],
   "source": [
    "from modules.iplots import pick_points # para fazer o plot interativo\n",
    "from modules.gravity import grav2D_anom # funcao que calcula dados de gravidade (rao 1994)"
   ]
  },
  {
   "cell_type": "markdown",
   "metadata": {},
   "source": [
    "### Leitura dos dados reais do perfil de Barreirinhas:"
   ]
  },
  {
   "cell_type": "code",
   "execution_count": 3,
   "metadata": {
    "scrolled": true
   },
   "outputs": [],
   "source": [
    "# leitura no script do pc do bijani:\n",
    "#x_utm, y_utm, elev, gz = np.loadtxt('../../dados_reais/Barreirinhas/barreirinhas_perfil.txt', skiprows=1 , usecols = (0,1,2,3), unpack = True)\n",
    "\n",
    "# leitura no script no pc do mathews:\n",
    "x_utm, y_utm, elev, gz = np.loadtxt('../dados_reais/barreirinhas_perfil.txt', skiprows=1 , usecols = (0,1,2,3), unpack = True)\n",
    "\n",
    "#alterando o sinal de elev devido a mudança da referencia do eixo z (positivo para baixo):\n",
    "elev = -elev                                   "
   ]
  },
  {
   "cell_type": "code",
   "execution_count": 12,
   "metadata": {},
   "outputs": [
    {
     "data": {
      "text/plain": [
       "Text(0,0.5,u'Gravity Anomaly (mGal)')"
      ]
     },
     "execution_count": 12,
     "metadata": {},
     "output_type": "execute_result"
    }
   ],
   "source": [
    "# Plot dos dados para verificação:\n",
    "%matplotlib tk\n",
    "plt.figure(figsize=(12,9))\n",
    "plt.plot(x_utm, gz,'*r')\n",
    "plt.title ('Gravity Data (mGal)', fontsize = 16)\n",
    "plt.xlabel ('UTM x(m)', fontsize = 14)\n",
    "plt.ylabel ('Gravity Anomaly (mGal)', fontsize = 14)"
   ]
  },
  {
   "cell_type": "markdown",
   "metadata": {},
   "source": [
    "### Definicao da area de plot do modelo:"
   ]
  },
  {
   "cell_type": "code",
   "execution_count": 13,
   "metadata": {},
   "outputs": [
    {
     "name": "stdout",
     "output_type": "stream",
     "text": [
      "-0.08588\n"
     ]
    }
   ],
   "source": [
    "area= []\n",
    "xmin = np.min (x_utm)\n",
    "xmax = np.max (x_utm)\n",
    "zmin = np.min ( (elev) )\n",
    "zmax = 4.0 #profundidade da bacia em km\n",
    "print zmin\n",
    "area = [xmin, xmax, zmin, zmax]\n",
    "\n",
    "#print area"
   ]
  },
  {
   "cell_type": "markdown",
   "metadata": {},
   "source": [
    "### Criacao do modelo de bacia atraves dos clicks na area de plot: "
   ]
  },
  {
   "cell_type": "code",
   "execution_count": 14,
   "metadata": {},
   "outputs": [],
   "source": [
    "axes = plt.figure().add_subplot(1,1,1)\n",
    "xv,zv = pick_points(area, axes, marker='o', color='k', size=8, xy2ne=False)\n"
   ]
  },
  {
   "cell_type": "code",
   "execution_count": 15,
   "metadata": {},
   "outputs": [
    {
     "name": "stdout",
     "output_type": "stream",
     "text": [
      "[435.97424610786294, 425.21538548971773, 355.2827914717742, 268.44341648245967, 193.8998821995968, 102.4495669453629, 78.6263755766129]\n"
     ]
    }
   ],
   "source": [
    "print xv"
   ]
  },
  {
   "cell_type": "markdown",
   "metadata": {},
   "source": [
    "### calculo da anomalia de gravidade produzido pelo modelo de bacia (artigo do Rao et. al., 1994):"
   ]
  },
  {
   "cell_type": "code",
   "execution_count": 16,
   "metadata": {},
   "outputs": [
    {
     "name": "stdout",
     "output_type": "stream",
     "text": [
      "1100.0\n"
     ]
    }
   ],
   "source": [
    "# info da propriedade fisica:\n",
    "delta_rho = -1.90 #(g/cm³)#Densidade do arenito\n",
    "beta = 3.12\n",
    "# convertendo para SI(kg/m³):\n",
    "rho_ref = 3.0 # densidade do embasamento (checar!)\n",
    "rho = delta_rho + rho_ref\n",
    "rho = rho * 1000.0 \n",
    "print rho"
   ]
  },
  {
   "cell_type": "code",
   "execution_count": 17,
   "metadata": {},
   "outputs": [],
   "source": [
    "#Criacao de variaveis necessarias para o calculo da anomalia:\n",
    "\n",
    "nv = np.size (xv)\n",
    "#print nv\n",
    "nper = np.size (x_utm)\n",
    "#print nper"
   ]
  },
  {
   "cell_type": "code",
   "execution_count": 18,
   "metadata": {},
   "outputs": [
    {
     "name": "stdout",
     "output_type": "stream",
     "text": [
      "[ -0.95050758  -1.16275038  -1.73252013  -2.95643754  -4.29579731\n",
      "  -4.98863788  -5.70175267  -6.98239361  -8.14733045  -9.26022136\n",
      " -10.65044806 -11.99266381 -13.09173414 -14.25975792 -15.09813123\n",
      " -15.7648446  -16.60665513 -17.23229721 -18.30624422 -18.85997666\n",
      " -19.25303169 -19.96172412 -20.57825906 -21.08499352 -21.54108074\n",
      " -22.08621395 -22.52348481 -23.02564738 -23.56781177 -24.10542359\n",
      " -24.55263874 -25.05887142 -25.49158118 -25.57575727 -25.95231322\n",
      " -26.3939259  -26.88460518 -27.27112337 -27.73400245 -28.24505558\n",
      " -28.48587851 -29.01406987 -29.45185692 -29.94507882 -30.43886751\n",
      " -30.91996949 -31.28836036 -31.64347547 -32.0025735  -32.35361854\n",
      " -32.75304176 -33.17584733 -33.5518685  -33.98318934 -34.59138103\n",
      " -34.67746082 -35.17386853 -35.74354257 -35.94175854 -36.24377993\n",
      " -36.49548053 -36.72970076 -37.03426587 -37.523888   -37.65217475\n",
      " -37.69788979 -37.85655073 -38.06496688 -38.18920702 -38.50935658\n",
      " -38.54451328 -38.60539381 -38.58460241 -38.43910849 -38.36332528\n",
      " -38.33771461 -38.20085406 -38.10349544 -37.99498166 -37.87071704\n",
      " -37.73660901 -37.77121151 -37.57674856 -37.39029702 -37.25185778\n",
      " -37.09882642 -36.99350758 -36.97320328 -36.86011835 -36.74239598\n",
      " -36.42408883 -36.26498178 -36.51895347 -36.36644542 -36.24856272\n",
      " -36.01500688 -36.04181065 -35.73729035 -35.39029421 -34.74176385\n",
      " -35.41452572 -35.2154268  -34.90004363 -35.18933072 -35.42095222\n",
      " -35.4264798  -34.67219476 -34.65844532 -35.40792888 -34.40765466\n",
      " -35.20203651 -34.36772929 -34.40951022 -34.98509613 -34.99156378\n",
      " -34.2455102  -33.93041466 -33.79099323 -33.88842285 -33.71961278\n",
      " -33.27155821 -34.00302821 -32.90362102 -32.86374875 -32.86525549\n",
      " -32.68573811 -32.57267912 -32.36567873 -32.41460153 -32.22928537\n",
      " -32.93891196 -32.18555211 -32.15458863 -32.13453025 -32.19166243\n",
      " -32.29380289 -32.04196946 -31.94567484 -31.8585127  -31.65141825\n",
      " -31.84713732 -31.87405434 -31.64883057 -31.75537405 -31.330133\n",
      " -31.32822829 -30.99872575 -30.77908191 -30.52050838 -30.08513476\n",
      " -30.27564884 -30.19172714 -30.03850046 -30.03699949 -30.0570444\n",
      " -29.62436218 -29.2470436  -29.09879002 -28.6204329  -28.47759216\n",
      " -28.29668949 -28.17475173 -27.74980333 -27.48897689 -27.02808712\n",
      " -26.96693649 -26.70516356 -26.76077112 -26.64219904 -26.64959765\n",
      " -26.85918233 -26.72520988 -26.55079069 -26.70355224 -26.58474691\n",
      " -26.44741534 -26.18550718 -26.05682281 -26.29589605 -25.74960265\n",
      " -25.63317316 -25.63182689 -25.11158559 -25.4876733  -25.22765678\n",
      " -24.9489805  -24.49680954 -24.13957041 -24.23870796 -23.96756078\n",
      " -23.91082386 -23.53324421 -23.24440566 -22.86989425 -22.62667637\n",
      " -22.65501136 -22.61589463 -22.15978498 -22.19153928 -22.13997674\n",
      " -22.07765265 -21.81000056 -21.4463689  -21.39429126 -21.12221803\n",
      " -20.53750165 -20.80360392 -20.39625392 -20.37769214 -20.56731562\n",
      " -20.15014405 -20.45839447 -20.10438901 -19.96069009 -20.01551984\n",
      " -19.95342373 -19.67920336 -19.63181929 -19.64561751 -19.44591372\n",
      " -19.16308076 -19.32012213 -19.32612045 -19.00311804 -19.00204629\n",
      " -19.14701206 -19.01810534 -18.89731229 -18.82064004 -18.96053683\n",
      " -18.65903062 -18.83226219 -18.74780068 -18.52043731 -18.07572392\n",
      " -17.83945497 -17.27186754 -17.33541712 -17.05999456 -16.83724632\n",
      " -16.13370037 -16.5958246  -16.20830818 -16.33865241 -16.3021804\n",
      " -15.89976615 -15.79244563 -15.83294838 -16.16635183 -15.88576058\n",
      " -15.87281654 -15.73992347 -15.70633501 -15.71397689 -15.91184046\n",
      " -15.68258589 -15.64527805 -15.79793315 -15.61773802 -15.6188175\n",
      " -15.54020254 -15.57553467 -15.40766296 -15.3029768  -15.30634996\n",
      " -15.25013667 -15.08188627 -14.8245069  -14.56488299 -14.5189139\n",
      " -14.45065713 -14.24562103 -14.05296895 -13.85516141 -13.65719026\n",
      " -13.31387569 -13.10857272 -12.80977274 -12.59936878 -12.57013871\n",
      " -12.20154141 -12.11495147 -11.9524406  -11.51733048 -11.25592797\n",
      " -11.13434133 -11.040765   -10.53111527 -10.35562781 -10.23279157\n",
      "  -9.85723657  -9.68168426  -9.57416036  -9.38899832  -9.32832236\n",
      "  -9.0853266   -8.64024947  -8.31203648  -7.98495296  -7.62138899\n",
      "  -7.50515833  -7.47049792  -7.23941194  -6.85480217  -6.55634265\n",
      "  -6.19916326  -5.85590131  -5.50892124  -5.28148669  -5.17598218\n",
      "  -5.1279891   -4.88062375  -4.45409718  -4.09096874  -3.68141546\n",
      "  -3.33208695  -2.87934012  -2.40217263  -1.92026315  -1.4288173\n",
      "  -0.97636885  -0.70936091  -0.5492231   -0.4676904   -0.41332094\n",
      "  -0.36878616  -0.33592695  -0.31050501  -0.29035776  -0.273281\n",
      "  -0.2577911   -0.24411684  -0.23370145]\n"
     ]
    }
   ],
   "source": [
    "# calculo da anomalia grav atraves de rao1994:\n",
    "xd = np.zeros( (nv,) )\n",
    "zd = np.zeros( (nv,) )\n",
    "grav = np.zeros( (nper,) )\n",
    "for i in range(nper):\n",
    "    for j in range(nv):\n",
    "        xd[j] = ( xv[j] - x_utm[i])\n",
    "        zd[j] = (zv[j] - elev[i])\n",
    "    # chamando a funcao do rao 1994:\n",
    "    grav[i] = grav2D_anom(xd,zd,delta_rho,beta)\n",
    "    \n",
    "print grav"
   ]
  },
  {
   "cell_type": "code",
   "execution_count": 19,
   "metadata": {},
   "outputs": [
    {
     "data": {
      "text/plain": [
       "[<matplotlib.lines.Line2D at 0xdbb5898>]"
      ]
     },
     "execution_count": 19,
     "metadata": {},
     "output_type": "execute_result"
    }
   ],
   "source": [
    "#Comparacao de dados observados e dados modelados\n",
    "\n",
    "plt.plot(x_utm,grav,'.k')\n"
   ]
  },
  {
   "cell_type": "code",
   "execution_count": null,
   "metadata": {},
   "outputs": [],
   "source": []
  },
  {
   "cell_type": "markdown",
   "metadata": {},
   "source": [
    "### Plot do modelo + os dados para comparação:"
   ]
  },
  {
   "cell_type": "code",
   "execution_count": null,
   "metadata": {},
   "outputs": [],
   "source": []
  },
  {
   "cell_type": "code",
   "execution_count": null,
   "metadata": {},
   "outputs": [],
   "source": []
  }
 ],
 "metadata": {
  "kernelspec": {
   "display_name": "Python 2",
   "language": "python",
   "name": "python2"
  },
  "language_info": {
   "codemirror_mode": {
    "name": "ipython",
    "version": 2
   },
   "file_extension": ".py",
   "mimetype": "text/x-python",
   "name": "python",
   "nbconvert_exporter": "python",
   "pygments_lexer": "ipython2",
   "version": "2.7.14"
  }
 },
 "nbformat": 4,
 "nbformat_minor": 2
}
