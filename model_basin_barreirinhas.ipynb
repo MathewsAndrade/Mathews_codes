{
 "cells": [
  {
   "cell_type": "markdown",
   "metadata": {},
   "source": [
    "### Script de modelagem direta da bacia de barreirinhas - dados grav adquiridos por Nelson Delimar"
   ]
  },
  {
   "cell_type": "code",
   "execution_count": 1,
   "metadata": {
    "collapsed": true
   },
   "outputs": [],
   "source": [
    "# importando pacotes necessarios:\n",
    "import numpy as np # pacote numerico\n",
    "import pylab as py \n",
    "#from numpy.linalg import inv # pacote de algebra linear\n",
    "import matplotlib.pyplot as plt # pacote de plotagem\n",
    "#import pandas as pd # pacode de tratamento de dados \n",
    "#from mpl_toolkits.basemap import Basemap\n",
    "#from matplotlib.patches import Polygon\n",
    "#from scipy.interpolate import Rbf # radial basis functions technique\n",
    "# para plotar as figuras nas celulas do jupyter notebook:\n",
    "#%matplotlib inline\n",
    "# para plot de figuras separadas das celulas do jupyter notebook:\n",
    "%matplotlib tk"
   ]
  },
  {
   "cell_type": "markdown",
   "metadata": {},
   "source": [
    "### Importando os pacotes com as nossas funcoes:"
   ]
  },
  {
   "cell_type": "code",
   "execution_count": 2,
   "metadata": {
    "collapsed": true
   },
   "outputs": [],
   "source": [
    "from modules.iplots import pick_points # para fazer o plot interativo\n",
    "from modules.gravity import grav2D_anom # funcao que calcula dados de gravidade (rao 1994)"
   ]
  },
  {
   "cell_type": "markdown",
   "metadata": {},
   "source": [
    "### Leitura dos dados reais do perfil de Barreirinhas:"
   ]
  },
  {
   "cell_type": "code",
   "execution_count": 3,
   "metadata": {},
   "outputs": [],
   "source": [
    "# leitura no script do pc do bijani:\n",
    "x_utm, y_utm, elev, gz = np.loadtxt('../../dados_reais/Barreirinhas/barreirinhas_perfil.txt', \n",
    "                                    skiprows=1 , usecols = (0,1,2,3), unpack = True)\n",
    "\n",
    "# leitura no script no pc do mathews:\n",
    "#x_utm, y_utm, elev, gz = np.loadtxt('../../dados_reais/Barreirinhas/barreirinhas_perfil.txt', \n",
    "#                                    skiprows=1 , usecols = (0,1,2,3), unpack = True)\n",
    "\n",
    "# alterando o sinal de elev devido a mudança da referencia do eixo z (positivo para baixo):\n",
    "elev = -elev                                   "
   ]
  },
  {
   "cell_type": "markdown",
   "metadata": {},
   "source": [
    "### Definicao da area de plot do modelo:"
   ]
  },
  {
   "cell_type": "code",
   "execution_count": 4,
   "metadata": {},
   "outputs": [
    {
     "name": "stdout",
     "output_type": "stream",
     "text": [
      "-0.08588\n"
     ]
    }
   ],
   "source": [
    "area= []\n",
    "xmin = np.min (x_utm)\n",
    "xmax = np.max (x_utm)\n",
    "zmin = np.min ( (elev) )\n",
    "zmax = 4.0 #profundidade da bacia em km\n",
    "print zmin\n",
    "area = [xmin, xmax, zmin, zmax]\n",
    "\n",
    "#print area"
   ]
  },
  {
   "cell_type": "markdown",
   "metadata": {},
   "source": [
    "### Criacao do modelo de bacia atraves dos clicks na area de plot: "
   ]
  },
  {
   "cell_type": "code",
   "execution_count": 5,
   "metadata": {},
   "outputs": [],
   "source": [
    "axes = plt.figure().add_subplot(1,1,1)\n",
    "xv,zv = pick_points(area, axes, marker='o', color='k', size=8, xy2ne=False)"
   ]
  },
  {
   "cell_type": "code",
   "execution_count": null,
   "metadata": {},
   "outputs": [],
   "source": [
    "print zv"
   ]
  },
  {
   "cell_type": "markdown",
   "metadata": {},
   "source": [
    "### calculo da anomalia de gravidade produzido pelo modelo de bacia (artigo do Rao et. al., 1994):"
   ]
  },
  {
   "cell_type": "code",
   "execution_count": 6,
   "metadata": {},
   "outputs": [
    {
     "name": "stdout",
     "output_type": "stream",
     "text": [
      "1100.0\n"
     ]
    }
   ],
   "source": [
    "# info da propriedade fisica:\n",
    "delta_rho = -1.90 #(g/cm³)\n",
    "beta = 3.12\n",
    "# convertendo para SI(kg/m³):\n",
    "rho_ref = 3.0 # densidade do arenito (checar!)\n",
    "rho = delta_rho + rho_ref\n",
    "rho = rho * 1000.0 \n",
    "print rho"
   ]
  },
  {
   "cell_type": "code",
   "execution_count": 7,
   "metadata": {},
   "outputs": [],
   "source": [
    "#Criacao de variaveis necessarias para o calculo da anomalia:\n",
    "\n",
    "nv = np.size (xv)\n",
    "#print nv\n",
    "nper = np.size (x_utm)\n",
    "#print nper"
   ]
  },
  {
   "cell_type": "code",
   "execution_count": 8,
   "metadata": {},
   "outputs": [
    {
     "name": "stdout",
     "output_type": "stream",
     "text": [
      "[  -1.10474239   -1.17468018   -1.28395083   -1.41994798   -1.61463554\n",
      "   -1.75185432   -1.91908018   -4.55904235   -9.87546826  -14.87990559\n",
      "  -20.71728744  -26.83304342  -34.76040713  -42.52397867  -45.74289934\n",
      "  -47.75369637  -49.97118622  -51.74756848  -55.10081889  -56.80152414\n",
      "  -57.60523666  -59.4349536   -60.91586801  -62.00766849  -62.90201461\n",
      "  -64.08601623  -64.95250094  -65.99069003  -67.16573489  -68.29331567\n",
      "  -69.07455172  -69.91150971  -70.50872058  -70.61960542  -71.23519445\n",
      "  -71.72875932  -72.40817396  -72.84079125  -73.31762312  -73.94353781\n",
      "  -74.01769322  -74.71517806  -75.04470579  -75.4797156   -75.96459999\n",
      "  -76.40293095  -76.58830807  -76.92012329  -77.51873049  -78.6268273\n",
      "  -80.4200909   -82.25292421  -83.90689405  -85.47667286  -87.43157845\n",
      "  -87.76811098  -89.21309719  -90.77224337  -91.16138913  -91.76501516\n",
      "  -92.1788116   -92.58034244  -93.06159028  -94.09153624  -94.10877278\n",
      "  -94.11249255  -94.32682861  -94.65628387  -94.90625865  -95.65803337\n",
      "  -95.64117977  -95.92405537  -96.19963478  -96.28866141  -96.47400032\n",
      "  -96.62281212  -96.94306758  -97.53716407  -98.37836662  -99.88484972\n",
      " -101.60205887 -101.73767008 -102.76411712 -103.26322992 -103.624646\n",
      " -103.85377792 -104.08628722 -104.17230779 -104.21581649 -104.39460532\n",
      " -103.91489751 -103.9503183  -105.15479941 -104.85175862 -104.7564287\n",
      " -104.57880277 -105.20231316 -104.7890775  -104.23587481 -102.41821539\n",
      " -104.58628139 -103.94927188 -102.98790352 -103.92036734 -104.67540663\n",
      " -104.90503091 -102.49538007 -102.45996067 -104.90923288 -101.95517955\n",
      " -104.61763155 -102.11286685 -102.76592741 -104.70429696 -104.73173996\n",
      " -102.80033907 -102.25434109 -101.93710103 -102.68474551 -102.59041616\n",
      " -101.62495895 -104.18562763 -100.88529619 -101.19952762 -101.2587912\n",
      " -101.09676956 -101.19984399 -100.95349578 -101.48904934 -101.14357048\n",
      " -103.55661027 -101.04531312 -101.03700183 -101.11883088 -101.52658626\n",
      " -102.14344441 -101.85924744 -101.89301227 -101.86595573 -101.5501111\n",
      " -102.6678792  -102.77066265 -102.19804959 -102.80740626 -101.83721321\n",
      " -101.85407777 -101.47253822 -101.46192273 -101.42928305 -100.68418442\n",
      " -101.55535003 -101.33401576 -100.83352307 -101.0026436  -101.59550764\n",
      " -100.96351498 -100.53124754 -100.78738991  -99.97877465  -99.8531558\n",
      "  -99.79850288 -100.29949013  -99.74181207  -99.73382254  -98.93426238\n",
      "  -99.38086683  -98.39116084  -98.71501929  -98.30914858  -98.34389173\n",
      "  -99.18088177  -98.70191859  -98.05331014  -98.71382378  -98.3424956\n",
      "  -98.11015249  -97.56063694  -97.53741498  -99.07474802  -97.12304635\n",
      "  -97.49012526  -97.66284238  -95.85506434  -97.7013132   -97.59526957\n",
      "  -97.42884135  -96.66960117  -95.99925839  -96.64568544  -96.15300291\n",
      "  -96.31082269  -95.77587211  -95.57251098  -94.91171512  -94.3800351\n",
      "  -95.02219079  -94.87733823  -92.99607873  -93.47919264  -93.52990769\n",
      "  -93.92929814  -93.81774861  -93.29424756  -93.21146842  -92.9324298\n",
      "  -90.87008407  -92.56247965  -90.73901353  -90.79962557  -91.82029522\n",
      "  -90.39312006  -92.07766384  -90.7304501   -90.12160546  -91.10191601\n",
      "  -90.83848717  -89.89474178  -90.17063086  -90.35607772  -89.81031887\n",
      "  -88.47226154  -89.65334799  -89.90814531  -88.78272608  -89.21539179\n",
      "  -89.98382751  -89.77885983  -89.17816069  -88.91071577  -89.62906526\n",
      "  -88.15126221  -89.33516754  -89.15463743  -88.60819865  -87.23256254\n",
      "  -87.14747112  -85.2778517   -85.67440378  -85.34996335  -85.13495968\n",
      "  -81.95006976  -84.57469674  -82.64173996  -83.7432603   -83.59694754\n",
      "  -81.73136472  -81.16155346  -81.38256253  -83.32202856  -81.81801882\n",
      "  -81.95705764  -81.42425602  -81.27298232  -81.50454681  -82.65853449\n",
      "  -81.54199704  -81.55501946  -82.433357    -81.61968176  -81.85038414\n",
      "  -81.55568981  -82.08224314  -81.34211844  -81.14847666  -81.64611109\n",
      "  -81.54503937  -80.67869216  -80.43897788  -80.09525783  -79.90376316\n",
      "  -80.24622636  -80.04677349  -79.64925362  -80.0622481   -78.94005318\n",
      "  -78.43660037  -78.68402634  -78.48734705  -77.9167836   -78.16769079\n",
      "  -77.62533698  -78.50074334  -77.94815492  -76.98458199  -76.93287991\n",
      "  -77.61607595  -77.47194807  -76.00771424  -76.47834153  -76.12090192\n",
      "  -75.54097489  -75.45019271  -75.62612406  -75.61055427  -75.60306914\n",
      "  -75.27094746  -73.87228468  -73.48751982  -73.00599618  -72.22826185\n",
      "  -71.85311196  -71.62990902  -71.13403862  -70.19140249  -69.38376838\n",
      "  -67.97506205  -67.21144707  -65.94187625  -65.33707292  -64.70726618\n",
      "  -64.63954191  -63.67155547  -60.84171008  -58.52805287  -53.27960417\n",
      "  -46.02317452  -35.23961037  -20.84674741  -11.09315971   -7.00127301\n",
      "   -5.13938727   -4.24255233   -3.54579555   -3.07295922   -2.70743527\n",
      "   -2.38086876   -2.12886937   -1.92947478   -1.77095451   -1.63703022\n",
      "   -1.51575395   -1.41030043   -1.33046396]\n"
     ]
    }
   ],
   "source": [
    "# calculo da anomalia grav atraves de rao1994:\n",
    "xd = np.zeros( (nv,) )\n",
    "zd = np.zeros( (nv,) )\n",
    "grav = np.zeros( (nper,) )\n",
    "for i in range(nper):\n",
    "    for j in range(nv):\n",
    "        xd[j] = ( xv[j] - x_utm[i])\n",
    "        zd[j] = (zv[j] - elev[i])\n",
    "    # chamando a funcao do rao 1994:\n",
    "    grav[i] = grav2D_anom(xd,zd,delta_rho,beta)\n",
    "    \n",
    "print grav"
   ]
  },
  {
   "cell_type": "code",
   "execution_count": 9,
   "metadata": {},
   "outputs": [
    {
     "data": {
      "text/plain": [
       "[<matplotlib.lines.Line2D at 0x7f1caf473e90>]"
      ]
     },
     "execution_count": 9,
     "metadata": {},
     "output_type": "execute_result"
    }
   ],
   "source": [
    "#Comparacao de dados observados e dados modelados\n",
    "\n",
    "plt.plot(x_utm,grav,'.k')\n",
    "plt.plot(x_utm,gz,'*r')"
   ]
  },
  {
   "cell_type": "code",
   "execution_count": null,
   "metadata": {
    "collapsed": true
   },
   "outputs": [],
   "source": []
  },
  {
   "cell_type": "markdown",
   "metadata": {},
   "source": [
    "### Plot do modelo + os dados para comparação:"
   ]
  },
  {
   "cell_type": "code",
   "execution_count": null,
   "metadata": {
    "collapsed": true
   },
   "outputs": [],
   "source": []
  }
 ],
 "metadata": {
  "kernelspec": {
   "display_name": "Python 2",
   "language": "python",
   "name": "python2"
  },
  "language_info": {
   "codemirror_mode": {
    "name": "ipython",
    "version": 2
   },
   "file_extension": ".py",
   "mimetype": "text/x-python",
   "name": "python",
   "nbconvert_exporter": "python",
   "pygments_lexer": "ipython2",
   "version": "2.7.14"
  }
 },
 "nbformat": 4,
 "nbformat_minor": 2
}
