{
 "cells": [
  {
   "cell_type": "code",
   "execution_count": 21,
   "metadata": {
    "collapsed": true,
    "slideshow": {
     "slide_type": "-"
    }
   },
   "outputs": [],
   "source": [
    "## test iterative drawing polygon:\n",
    "import numpy as np\n",
    "import pylab as py\n",
    "import matplotlib.pyplot as plt\n",
    "from matplotlib import pyplot, widgets\n",
    "%matplotlib tk\n",
    "#%matplotlib inline"
   ]
  },
  {
   "cell_type": "code",
   "execution_count": 22,
   "metadata": {
    "collapsed": true,
    "slideshow": {
     "slide_type": "slide"
    }
   },
   "outputs": [],
   "source": [
    "# importacao das funções externas ao anaconda:\n",
    "import minhas_funcoes as mf\n",
    "from modules.iplots import draw_polygon, pick_points"
   ]
  },
  {
   "cell_type": "code",
   "execution_count": 23,
   "metadata": {
    "slideshow": {
     "slide_type": "-"
    }
   },
   "outputs": [],
   "source": [
    "# Draw each polygonal prism (viewed from above)\n",
    "bounds = [-5000, 5000, -5000, 5000, 0, 5000]\n",
    "area = bounds[:4]\n",
    "axes = plt.figure().add_subplot(1,1,1)\n",
    "#verts = mf.draw_polygon(area,axes,xy2ne=False)\n",
    "#verts = draw_polygon(area,axes,xy2ne=False)\n",
    "verts = pick_points(area, axes, marker='o', color='k', size=8, xy2ne=False)"
   ]
  },
  {
   "cell_type": "code",
   "execution_count": 4,
   "metadata": {},
   "outputs": [
    {
     "ename": "NameError",
     "evalue": "name 'verts' is not defined",
     "output_type": "error",
     "traceback": [
      "\u001b[0;31m---------------------------------------------------------------------------\u001b[0m",
      "\u001b[0;31mNameError\u001b[0m                                 Traceback (most recent call last)",
      "\u001b[0;32m<ipython-input-4-46bbeac9279c>\u001b[0m in \u001b[0;36m<module>\u001b[0;34m()\u001b[0m\n\u001b[0;32m----> 1\u001b[0;31m \u001b[0;32mprint\u001b[0m \u001b[0mverts\u001b[0m\u001b[0;34m\u001b[0m\u001b[0m\n\u001b[0m",
      "\u001b[0;31mNameError\u001b[0m: name 'verts' is not defined"
     ]
    }
   ],
   "source": [
    "print verts"
   ]
  },
  {
   "cell_type": "code",
   "execution_count": 24,
   "metadata": {
    "collapsed": true
   },
   "outputs": [],
   "source": [
    "fig = plt.figure()\n",
    "ax = fig.add_subplot(1,1,1)\n",
    "ax.set_title('Click to pick points')\n",
    "\n",
    "line, = ax.plot([],[])\n",
    "line.figure.canvas.draw()\n",
    "x = []\n",
    "y = []\n",
    "plotx = []\n",
    "ploty = []\n",
    "\n",
    "def pick(event):\n",
    "    if event.inaxes != ax.axes:\n",
    "        return 'plot area wrongly set up. Please, check.'\n",
    "    x.append(event.xdata)\n",
    "    y.append(event.ydata)\n",
    "    plotx.append(event.xdata)\n",
    "    ploty.append(event.ydata)\n",
    "    line.set_color('r')\n",
    "    line.set_marker('o')\n",
    "    line.set_linestyle('-')\n",
    "    line.set_data(plotx,ploty)\n",
    "    line.figure.canvas.draw()\n",
    "#line.figure.canvas.mpl_connect('button_press_event', pick)\n",
    "\n",
    "def erase(event):\n",
    "    if event.key == 'e':\n",
    "        x.pop()\n",
    "        y.pop()\n",
    "        plotx.pop()\n",
    "        ploty.pop()\n",
    "        line.set_data(plotx, ploty)\n",
    "line.figure.canvas.draw()\n",
    "line.figure.canvas.mpl_connect('button_press_event', pick)\n",
    "line.figure.canvas.mpl_connect('key_press_event', erase)\n",
    "\n",
    "plt.show()\n",
    "\n",
    "frouxo = zip(x,y)"
   ]
  },
  {
   "cell_type": "code",
   "execution_count": 6,
   "metadata": {
    "collapsed": true
   },
   "outputs": [],
   "source": [
    "x_vert = np.array(x)"
   ]
  },
  {
   "cell_type": "code",
   "execution_count": 7,
   "metadata": {},
   "outputs": [
    {
     "name": "stdout",
     "output_type": "stream",
     "text": [
      "[-0.02639113 -0.020625   -0.01574597 -0.00554435  0.00820565  0.01663306\n",
      "  0.0215121   0.0215121   0.020625    0.01441532 -0.00110887 -0.01419355\n",
      " -0.02461694 -0.02639113  0.00022177  0.00177419]\n"
     ]
    }
   ],
   "source": [
    "print x_vert"
   ]
  },
  {
   "cell_type": "code",
   "execution_count": 8,
   "metadata": {
    "collapsed": true
   },
   "outputs": [],
   "source": [
    "y_vert = np.array(y)"
   ]
  },
  {
   "cell_type": "code",
   "execution_count": 9,
   "metadata": {},
   "outputs": [
    {
     "name": "stdout",
     "output_type": "stream",
     "text": [
      "[ 0.02630952  0.01142857 -0.01446429 -0.03083333 -0.02755952 -0.0147619\n",
      "  0.0010119   0.01470238  0.02690476  0.03434524  0.03642857  0.03642857\n",
      "  0.03255952  0.02571429  0.01767857  0.01380952]\n"
     ]
    }
   ],
   "source": [
    "print y_vert"
   ]
  },
  {
   "cell_type": "code",
   "execution_count": 10,
   "metadata": {
    "collapsed": true
   },
   "outputs": [],
   "source": [
    "frouxo2 = [x_vert,y_vert]"
   ]
  },
  {
   "cell_type": "code",
   "execution_count": 11,
   "metadata": {},
   "outputs": [
    {
     "name": "stdout",
     "output_type": "stream",
     "text": [
      "[-0.02639113 -0.020625   -0.01574597 -0.00554435  0.00820565  0.01663306\n",
      "  0.0215121   0.0215121   0.020625    0.01441532 -0.00110887 -0.01419355\n",
      " -0.02461694 -0.02639113  0.00022177  0.00177419]\n"
     ]
    }
   ],
   "source": [
    "print frouxo2[0]"
   ]
  },
  {
   "cell_type": "code",
   "execution_count": null,
   "metadata": {
    "collapsed": true
   },
   "outputs": [],
   "source": []
  }
 ],
 "metadata": {
  "celltoolbar": "Slideshow",
  "kernelspec": {
   "display_name": "Python 2",
   "language": "python",
   "name": "python2"
  },
  "language_info": {
   "codemirror_mode": {
    "name": "ipython",
    "version": 2
   },
   "file_extension": ".py",
   "mimetype": "text/x-python",
   "name": "python",
   "nbconvert_exporter": "python",
   "pygments_lexer": "ipython2",
   "version": "2.7.14"
  }
 },
 "nbformat": 4,
 "nbformat_minor": 2
}
