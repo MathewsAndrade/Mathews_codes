{
 "cells": [
  {
   "cell_type": "code",
   "execution_count": 15,
   "metadata": {
    "collapsed": true
   },
   "outputs": [],
   "source": [
    "## Interpolacao pelo inverso da potencia da distancia\n",
    "\n",
    "# importando as bibliotecas necessarias para o uso do script:\n",
    "# import necessary library:\n",
    "import numpy as np\n",
    "#from numpy.linalg import inv\n",
    "import matplotlib.pyplot as plt\n",
    "from scipy.interpolate import Rbf # radial basis functions technique\n",
    "#import pandas as pd\n",
    "#from mpl_toolkits.basemap import Basemap\n",
    "#from matplotlib.patches import Polygon\n",
    "# to plot figures in cells:\n",
    "%matplotlib inline"
   ]
  },
  {
   "cell_type": "code",
   "execution_count": 17,
   "metadata": {},
   "outputs": [
    {
     "name": "stdout",
     "output_type": "stream",
     "text": [
      "(50,)\n"
     ]
    }
   ],
   "source": [
    "# geracao dos \"dados\" a serem interpolados: \n",
    "#x,y = np.random.randn(2, 100)\n",
    "x = np.linspace(xmin,xmax,50)\n",
    "y = np.linspace(0.0,0.0,50)\n",
    "#dat = np.zeros(np.size(x))\n",
    "dat = x**2+y**3\n",
    "print dat.shape\n",
    "# criacao do interpolador via radial basis functions:\n",
    "interpolator = Rbf(x,y,dat)\n",
    "xmin = np.min(x)\n",
    "xmax = np.max(x)\n",
    "ymin = np.min(y)\n",
    "ymax = np.max(y)\n",
    "# pontos no espaco onde se deseja calcular dados:\n",
    "xp = np.linspace(xmin,xmax,50)\n",
    "yp = np.linspace(0.0,0.0,50)"
   ]
  },
  {
   "cell_type": "code",
   "execution_count": 18,
   "metadata": {},
   "outputs": [
    {
     "data": {
      "text/plain": [
       "<matplotlib.legend.Legend at 0x7f388e263150>"
      ]
     },
     "execution_count": 18,
     "metadata": {},
     "output_type": "execute_result"
    },
    {
     "data": {
      "image/png": "[encoded data removed]",
      "text/plain": [
       "<matplotlib.figure.Figure at 0x7f388d283890>"
      ]
     },
     "metadata": {},
     "output_type": "display_data"
    }
   ],
   "source": [
    "plt.plot(xp,yp,'k.', markersize = 10, label = 'interpolado')\n",
    "plt.plot(x,y,'r+', markersize = 10, label = 'verdadeiro')\n",
    "plt.title('Distribuicao de pontos no espaco')\n",
    "plt.legend(loc = 'best')"
   ]
  },
  {
   "cell_type": "code",
   "execution_count": 19,
   "metadata": {},
   "outputs": [
    {
     "name": "stdout",
     "output_type": "stream",
     "text": [
      "(50,)\n"
     ]
    }
   ],
   "source": [
    "# utilizacao do interpolador para gerar dados sobre o perfil:\n",
    "dati = interpolator(xp,yp)\n",
    "print dati.shape"
   ]
  },
  {
   "cell_type": "code",
   "execution_count": 20,
   "metadata": {},
   "outputs": [
    {
     "data": {
      "text/plain": [
       "<matplotlib.legend.Legend at 0x7f388d2ac310>"
      ]
     },
     "execution_count": 20,
     "metadata": {},
     "output_type": "execute_result"
    },
    {
     "data": {
      "image/png": "[encoded data removed]",
      "text/plain": [
       "<matplotlib.figure.Figure at 0x7f388d1a2550>"
      ]
     },
     "metadata": {},
     "output_type": "display_data"
    }
   ],
   "source": [
    "plt.plot(xp,dati,'k.', markersize = 10, label = 'interpolado')\n",
    "plt.plot(x,dat,'r+',markersize = 10, label = 'verdadeiro')\n",
    "plt.title('Dados')\n",
    "plt.legend(loc = 'best')"
   ]
  },
  {
   "cell_type": "code",
   "execution_count": null,
   "metadata": {
    "collapsed": true
   },
   "outputs": [],
   "source": []
  }
 ],
 "metadata": {
  "kernelspec": {
   "display_name": "Python 2",
   "language": "python",
   "name": "python2"
  },
  "language_info": {
   "codemirror_mode": {
    "name": "ipython",
    "version": 2
   },
   "file_extension": ".py",
   "mimetype": "text/x-python",
   "name": "python",
   "nbconvert_exporter": "python",
   "pygments_lexer": "ipython2",
   "version": "2.7.14"
  }
 },
 "nbformat": 4,
 "nbformat_minor": 2
}
