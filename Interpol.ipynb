{
 "cells": [
  {
   "cell_type": "code",
   "execution_count": 16,
   "metadata": {},
   "outputs": [],
   "source": [
    "## Interpolacao pelo inverso da potencia da distancia\n",
    "# import necessary library:\n",
    "import numpy as np\n",
    "#from numpy.linalg import inv\n",
    "import matplotlib.pyplot as plt\n",
    "from scipy.interpolate import Rbf # radial basis functions technique\n",
    "# to plot figures in cells:\n",
    "%matplotlib inline"
   ]
  },
  {
   "cell_type": "code",
   "execution_count": 17,
   "metadata": {},
   "outputs": [],
   "source": [
    "# import local functions:\n",
    "from modules.auxiliars import inv_power_dist"
   ]
  },
  {
   "cell_type": "code",
   "execution_count": 18,
   "metadata": {},
   "outputs": [
    {
     "name": "stdout",
     "output_type": "stream",
     "text": [
      "(50,)\n",
      "50\n"
     ]
    }
   ],
   "source": [
    "# geracao dos \"dados\" a serem interpolados: \n",
    "#x,y = np.random.randn(2, 100)\n",
    "x = np.linspace(0.0,1.0,50)\n",
    "y = np.linspace(0.0,0.0,50)\n",
    "#dat = np.zeros(np.size(x))\n",
    "dat = x**2+y**3\n",
    "print dat.shape\n",
    "# criacao do interpolador via radial basis functions:\n",
    "interpolator = Rbf(x,y,dat)\n",
    "xmin = np.min(x)\n",
    "xmax = np.max(x)\n",
    "ymin = np.min(y)\n",
    "ymax = np.max(y)\n",
    "# pontos no espaco onde se deseja calcular dados:\n",
    "xp = x #np.linspace(xmin,xmax,50)\n",
    "yp = y #np.linspace(0.0,0.0,50)\n",
    "print np.size(xp)"
   ]
  },
  {
   "cell_type": "code",
   "execution_count": 19,
   "metadata": {},
   "outputs": [
    {
     "data": {
      "text/plain": [
       "<matplotlib.legend.Legend at 0x7f7ead331c90>"
      ]
     },
     "execution_count": 19,
     "metadata": {},
     "output_type": "execute_result"
    },
    {
     "data": {
      "image/png": "[encoded data removed]",
      "text/plain": [
       "<matplotlib.figure.Figure at 0x7f7ead35e7d0>"
      ]
     },
     "metadata": {},
     "output_type": "display_data"
    }
   ],
   "source": [
    "plt.plot(xp,yp,'k.', markersize = 10, label = 'interpolado')\n",
    "plt.plot(x,y,'r+', markersize = 10, label = 'verdadeiro')\n",
    "plt.title('Distribuicao de pontos no espaco')\n",
    "plt.legend(loc = 'best')"
   ]
  },
  {
   "cell_type": "code",
   "execution_count": 20,
   "metadata": {},
   "outputs": [],
   "source": [
    "# utilizacao do interpolador para gerar dados sobre o perfil:\n",
    "dati = interpolator(xp,yp) # radial basis functions:\n",
    "dati2 = inv_power_dist(x,y,dat,xp,yp,3.0)"
   ]
  },
  {
   "cell_type": "code",
   "execution_count": 21,
   "metadata": {},
   "outputs": [
    {
     "data": {
      "text/plain": [
       "<matplotlib.legend.Legend at 0x7f7ead2b7f90>"
      ]
     },
     "execution_count": 21,
     "metadata": {},
     "output_type": "execute_result"
    },
    {
     "data": {
      "image/png": "[encoded data removed]",
      "text/plain": [
       "<matplotlib.figure.Figure at 0x7f7ead33e4d0>"
      ]
     },
     "metadata": {},
     "output_type": "display_data"
    }
   ],
   "source": [
    "plt.plot(xp,dati,'k.', markersize = 10, label = 'interpolado - RBF')\n",
    "plt.plot(xp,dati2,'b*', markersize = 10, label = 'interpolado - IPD')\n",
    "plt.plot(x,dat,'r+',markersize = 10, label = 'verdadeiro')\n",
    "plt.title('Dados')\n",
    "plt.legend(loc = 'best')"
   ]
  },
  {
   "cell_type": "code",
   "execution_count": null,
   "metadata": {
    "collapsed": true
   },
   "outputs": [],
   "source": []
  }
 ],
 "metadata": {
  "kernelspec": {
   "display_name": "Python 2",
   "language": "python",
   "name": "python2"
  },
  "language_info": {
   "codemirror_mode": {
    "name": "ipython",
    "version": 2
   },
   "file_extension": ".py",
   "mimetype": "text/x-python",
   "name": "python",
   "nbconvert_exporter": "python",
   "pygments_lexer": "ipython2",
   "version": "2.7.14"
  }
 },
 "nbformat": 4,
 "nbformat_minor": 2
}
