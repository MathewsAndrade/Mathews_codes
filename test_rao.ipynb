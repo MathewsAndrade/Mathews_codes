{
 "cells": [
  {
   "cell_type": "code",
   "execution_count": 2,
   "metadata": {
    "slideshow": {
     "slide_type": "-"
    }
   },
   "outputs": [],
   "source": [
    "## test iterative drawing polygon:\n",
    "import numpy as np\n",
    "import pylab as py\n",
    "import matplotlib.pyplot as plt\n",
    "#%matplotlib inline\n",
    "from __future__ import division, absolute_import\n",
    "import warnings\n",
    "from matplotlib import pyplot, widgets\n",
    "%matplotlib tk\n",
    "import minhas_funcoes as mf"
   ]
  },
  {
   "cell_type": "code",
   "execution_count": 3,
   "metadata": {},
   "outputs": [
    {
     "ename": "SyntaxError",
     "evalue": "EOF while scanning triple-quoted string literal (<ipython-input-3-8193b5e6b47c>, line 17)",
     "output_type": "error",
     "traceback": [
      "\u001b[0;36m  File \u001b[0;32m\"<ipython-input-3-8193b5e6b47c>\"\u001b[0;36m, line \u001b[0;32m17\u001b[0m\n\u001b[0;31m    rk = np.sqrt(x[i]**2)''''''\u001b[0m\n\u001b[0m                               \n^\u001b[0m\n\u001b[0;31mSyntaxError\u001b[0m\u001b[0;31m:\u001b[0m EOF while scanning triple-quoted string literal\n"
     ]
    }
   ],
   "source": [
    "# Teste para mostrar ao mathews!\n",
    "\n",
    "# create new working arrays for the vertices of a closed polygon:\n",
    "'''''''''''''''''xv = np.arange(0., 6.)\n",
    "nv = np.size(xv)\n",
    "print xv \n",
    "x = np.zeros( (nv+1,) )\n",
    "nx = np.size(x)\n",
    "print x\n",
    "x[0:nv] = xv\n",
    "print x\n",
    "# Closed body: \n",
    "x[nv:nv+1] = xv[1]\n",
    "print x\n",
    "\n",
    "for i in range(nv):\n",
    "    rk = np.sqrt(x[i]**2)''''''"
   ]
  },
  {
   "cell_type": "code",
   "execution_count": 4,
   "metadata": {},
   "outputs": [],
   "source": [
    "# leitura do modelo de bacia:\n",
    "xv,zv = np.loadtxt('../../programas/relevo_bacia_2D/mod_basin01.txt', skiprows=1, usecols = (0,1), unpack = True)\n",
    "nv = np.size(xv)"
   ]
  },
  {
   "cell_type": "code",
   "execution_count": 5,
   "metadata": {},
   "outputs": [],
   "source": [
    "# criacao do perfil:\n",
    "xp = np.linspace(0.0,20.0,41) # coordenadas x das observacoes\n",
    "nper = np.size(xp)\n",
    "zp = -0.002 # altura das observacoes"
   ]
  },
  {
   "cell_type": "code",
   "execution_count": 6,
   "metadata": {
    "collapsed": true
   },
   "outputs": [],
   "source": [
    "# info da propriedade fisica:\n",
    "delta_rho = -0.88 #(g/cm³)\n",
    "beta = 3.12\n",
    "\n",
    "# convertendo para SI(kg/m³):\n",
    "rho_ref = 2.67\n",
    "rho = delta_rho - rho_ref\n",
    "rho = rho * 1000.0"
   ]
  },
  {
   "cell_type": "code",
   "execution_count": 7,
   "metadata": {
    "slideshow": {
     "slide_type": "-"
    }
   },
   "outputs": [
    {
     "data": {
      "text/plain": [
       "[<matplotlib.lines.Line2D at 0x7fb332ae2210>]"
      ]
     },
     "execution_count": 7,
     "metadata": {},
     "output_type": "execute_result"
    }
   ],
   "source": [
    "# calculo da anomalia grav atraves de rao1994:\n",
    "xd = np.zeros( (nv,) )\n",
    "zd = np.zeros( (nv,) )\n",
    "grav = np.zeros( (nper,) )\n",
    "for i in range(nper):\n",
    "    for j in range(nv):\n",
    "        xd[j] = ( xv[j] - xp[i])\n",
    "        zd[j] = (zv[j] - zp)\n",
    "    # chamando a funcao do rao 1994:\n",
    "    grav[i] = mf.grav2D_anom(xd,zd,delta_rho,beta)\n",
    "    \n",
    "plt.plot(xp,grav,'.k')"
   ]
  }
 ],
 "metadata": {
  "celltoolbar": "Slideshow",
  "kernelspec": {
   "display_name": "Python 2",
   "language": "python",
   "name": "python2"
  },
  "language_info": {
   "codemirror_mode": {
    "name": "ipython",
    "version": 2
   },
   "file_extension": ".py",
   "mimetype": "text/x-python",
   "name": "python",
   "nbconvert_exporter": "python",
   "pygments_lexer": "ipython2",
   "version": "2.7.14"
  }
 },
 "nbformat": 4,
 "nbformat_minor": 2
}
