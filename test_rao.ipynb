{
 "cells": [
  {
   "cell_type": "code",
   "execution_count": 1,
   "metadata": {
    "collapsed": true,
    "slideshow": {
     "slide_type": "-"
    }
   },
   "outputs": [],
   "source": [
    "## test iterative drawing polygon:\n",
    "import numpy as np\n",
    "import pylab as py\n",
    "import matplotlib.pyplot as plt\n",
    "#%matplotlib inline\n",
    "from __future__ import division, absolute_import\n",
    "import warnings\n",
    "from matplotlib import pyplot, widgets\n",
    "%matplotlib tk"
   ]
  },
  {
   "cell_type": "code",
   "execution_count": 3,
   "metadata": {},
   "outputs": [],
   "source": [
    "def grav2D_anom(xv,zv,rho,beta):\n",
    "# COMPUTES THE 2D GRAVITY ANOMALY IN mGals OF A TWO DIMENSIONAL(2D) BODY OF ARBITRARY SHAPE WITH HYPERBOLIC\n",
    "#! DENBITY CONTRAST\n",
    "#! This code is based on Rao et al 1994 implementation\n",
    "#! x,z = vertices of the arbitrary source (kilometers) \n",
    "#! rho = density contrast in g/cm³\n",
    "#! beta = coeficient to control the hyperbolic decay with depth \n",
    "#! n = number of vertices of the arbitrary source (in clockwise direction)\n",
    "# output: grav (1D array with gravity anomaly produced by the polygon)\n",
    "    \n",
    " # Check inconstancy of array dimensions:\n",
    "# Stablishing some conditions\n",
    "    if xv.shape != zv.shape:\n",
    "        raise ValueError(\"All inputs must have same shape!\")\n",
    "    # get the number of elements of xv (number of vertices of the polygon)\n",
    "    n = xv.shape\n",
    "        \n",
    "    # reate new working arrays for the vertices of a closed polygon:\n",
    "   #x = np.zeros( (n+1) )  \n",
    "   # z = np.zeros( (n+1) ) \n",
    "   # x = np.array(x)\n",
    "   # z = np.array(z)\n",
    "   # x = xv\n",
    "   # z = zv\n",
    "    # Closed body: \n",
    "   # x.append( xv(0) )\n",
    "   # z.append( zv(0) )\n",
    "   \n",
    "    gval = 0.0    #! gravity value to be added\n",
    "\n",
    "#! Loop over the vertices of the 2D polygon:\n",
    "    for k in range(n):\n",
    "        rk = np.sqrt(x(k)**2 + z(k)**2)\n",
    "        if rk == 0.0: \n",
    "            raise ValueError(\"Identical vertices. Check coordinates\")\n",
    "        rk1 = np.sqrt( x(k+1)**2 + z(k+1)**2 )\n",
    "        if rk1 == 0.0: \n",
    "            raise ValueError(\"Identical vertices. Check coordinates\")  \n",
    "        #! vertices differences:\n",
    "        dx  = x(k+1) - x(k)\n",
    "        dz  = z(k+1) - z(k)\n",
    "        den = np.sqrt(dx*dx + dz*dz)\n",
    "        if den == 0.0: \n",
    "            raise ValueError(\"Identical vertices. Check coordinates\")\n",
    "  \n",
    "    # compute the hyperbolic density function (Litinsky, 1994):\n",
    "        c  = dx/den\n",
    "        s  = dz/den\n",
    "        p1 = x(k) * s - z(k) * c\n",
    "        p2 = beta**2 - 2.0 * beta * p1 * c + p1**2\n",
    "        q1 = beta + z(k)\n",
    "        q2 = beta + z(k+1)\n",
    "        if z(k) == 0.0:\n",
    "            ph1 = 1.570796 * ( x(k) / np.absolute( x(k) ) )\n",
    "        else:\n",
    "            ph1 = np.arctan(x(k), z(k) ) \n",
    "\n",
    "        if z(k+1) == 0.0:\n",
    "            ph2 = 1.570796 * ( x(k+1) / np.absolute( x(k+1) ) )\n",
    "        else:\n",
    "            ph2 = np.arctan2( x(k+1), z(k+1) )\n",
    "        \n",
    "       #! Compute the gravity effect:\n",
    "        d1 = rk1 * q1\n",
    "        d2 = rk  * q2\n",
    "        a1 = np.log(d1 / d2)\n",
    "        t1 = (a1 * s) / p2\n",
    "        t2 = (beta - p1 * c) / (p1 * p2)\n",
    "        t3 = ph1 - ph2\n",
    "        t4 = t2 * t3\n",
    "        dg = p1 * (t1 - t4) \n",
    "   \n",
    "        gval += dg\n",
    "    \n",
    "    cte = 13.33333 * rho * beta**2\n",
    "    #!grav2D_anom = gval * cte     ! gravity anomaly in mGal\n",
    "    grav = gval * cte\n",
    "    return grav"
   ]
  },
  {
   "cell_type": "code",
   "execution_count": 4,
   "metadata": {},
   "outputs": [
    {
     "name": "stdout",
     "output_type": "stream",
     "text": [
      "11\n"
     ]
    }
   ],
   "source": [
    "# leitura do modelo de bacia:\n",
    "xv,zv = np.loadtxt('../../programas/relevo_bacia_2D/mod_basin01.txt', skiprows=1, usecols = (0,1), unpack = True)\n",
    "nv = np.size(xv)\n",
    "print nv"
   ]
  },
  {
   "cell_type": "code",
   "execution_count": 5,
   "metadata": {},
   "outputs": [
    {
     "name": "stdout",
     "output_type": "stream",
     "text": [
      "41\n"
     ]
    }
   ],
   "source": [
    "# criacao do perfil:\n",
    "xp = np.linspace(0.0,20.0,41) # coordenadas x das observacoes\n",
    "np = np.size(xp)\n",
    "print np\n",
    "zp = -0.002 # altura das observacoes"
   ]
  },
  {
   "cell_type": "code",
   "execution_count": 7,
   "metadata": {},
   "outputs": [],
   "source": [
    "# info da propriedade fisica:\n",
    "delta_rho = -0.88 #(g/cm³)\n",
    "beta = 3.12\n",
    "\n",
    "# convertendo para SI(kg/m³):\n",
    "rho_ref = 2.67\n",
    "rho = delta_rho - rho_ref\n",
    "rho = rho * 1000.0"
   ]
  },
  {
   "cell_type": "code",
   "execution_count": 10,
   "metadata": {},
   "outputs": [
    {
     "ename": "AttributeError",
     "evalue": "'int' object has no attribute 'zeros'",
     "output_type": "error",
     "traceback": [
      "\u001b[0;31m---------------------------------------------------------------------------\u001b[0m",
      "\u001b[0;31mAttributeError\u001b[0m                            Traceback (most recent call last)",
      "\u001b[0;32m<ipython-input-10-5393495b5739>\u001b[0m in \u001b[0;36m<module>\u001b[0;34m()\u001b[0m\n\u001b[1;32m      1\u001b[0m \u001b[0;31m# calculo da anomalia grav atraves de rao1994:\u001b[0m\u001b[0;34m\u001b[0m\u001b[0;34m\u001b[0m\u001b[0m\n\u001b[0;32m----> 2\u001b[0;31m \u001b[0mxxd\u001b[0m \u001b[0;34m=\u001b[0m \u001b[0mnp\u001b[0m\u001b[0;34m.\u001b[0m\u001b[0mzeros\u001b[0m\u001b[0;34m(\u001b[0m \u001b[0;34m(\u001b[0m\u001b[0mnv\u001b[0m\u001b[0;34m)\u001b[0m \u001b[0;34m)\u001b[0m\u001b[0;34m\u001b[0m\u001b[0m\n\u001b[0m\u001b[1;32m      3\u001b[0m \u001b[0mzzd\u001b[0m \u001b[0;34m=\u001b[0m \u001b[0mnp\u001b[0m\u001b[0;34m.\u001b[0m\u001b[0mzeros\u001b[0m\u001b[0;34m(\u001b[0m \u001b[0;34m(\u001b[0m\u001b[0mnv\u001b[0m\u001b[0;34m)\u001b[0m \u001b[0;34m)\u001b[0m\u001b[0;34m\u001b[0m\u001b[0m\n\u001b[1;32m      4\u001b[0m \u001b[0;31m#xd = []\u001b[0m\u001b[0;34m\u001b[0m\u001b[0;34m\u001b[0m\u001b[0m\n\u001b[1;32m      5\u001b[0m \u001b[0;31m#zd = []\u001b[0m\u001b[0;34m\u001b[0m\u001b[0;34m\u001b[0m\u001b[0m\n",
      "\u001b[0;31mAttributeError\u001b[0m: 'int' object has no attribute 'zeros'"
     ]
    }
   ],
   "source": [
    "# calculo da anomalia grav atraves de rao1994:\n",
    "xxd = np.zeros( (nv) )\n",
    "zzd = np.zeros( (nv) )\n",
    "#xd = []\n",
    "#zd = []\n",
    "for i in range(np):\n",
    "    for j in range(nv):\n",
    "        xxd[j] = ( xv[j] - xp[i])\n",
    "        zzd[j] = (zv[j] - zp)\n",
    "    # chamando a funcao do rao 1994:\n",
    "    grav[i] = grav2D_anom(xd,zd,rho,beta)\n",
    "    \n",
    "plt.plot(xp,grav,'.k')"
   ]
  },
  {
   "cell_type": "code",
   "execution_count": null,
   "metadata": {
    "collapsed": true
   },
   "outputs": [],
   "source": []
  }
 ],
 "metadata": {
  "celltoolbar": "Slideshow",
  "kernelspec": {
   "display_name": "Python 2",
   "language": "python",
   "name": "python2"
  },
  "language_info": {
   "codemirror_mode": {
    "name": "ipython",
    "version": 2
   },
   "file_extension": ".py",
   "mimetype": "text/x-python",
   "name": "python",
   "nbconvert_exporter": "python",
   "pygments_lexer": "ipython2",
   "version": "2.7.14"
  }
 },
 "nbformat": 4,
 "nbformat_minor": 2
}
