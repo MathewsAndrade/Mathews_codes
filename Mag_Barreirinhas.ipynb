{
 "cells": [
  {
   "cell_type": "markdown",
   "metadata": {},
   "source": [
    "## Visualização dos dados Mag da bacia de Barreirinhas\n"
   ]
  },
  {
   "cell_type": "code",
   "execution_count": null,
   "metadata": {},
   "outputs": [],
   "source": [
    "import numpy as np\n",
    "import pandas as pd\n",
    "import matplotlib.pyplot as plt"
   ]
  },
  {
   "cell_type": "code",
   "execution_count": null,
   "metadata": {},
   "outputs": [],
   "source": [
    "caminhorod = '../dados_reais/BOF_9893_ANP/NAO_SISMICO/R0012_MAG_app020_PARAMABARRCEARAPARN/R0012_MAG_app020_PARAMABARRCEARAPARN_med_proc.asc'"
   ]
  },
  {
   "cell_type": "code",
   "execution_count": null,
   "metadata": {},
   "outputs": [],
   "source": [
    "nomes = ['Line,FID,lat,long,X,Y,mag_fin,mag_lev,mag_lev_trd,mag_raw']\n",
    "\n",
    "data = pd.read_csv(caminhorod, sep=',',\n",
    "                   low_memory=False, header=0, skiprows=15, index_col=None, na_values='*'  )"
   ]
  },
  {
   "cell_type": "code",
   "execution_count": null,
   "metadata": {},
   "outputs": [],
   "source": [
    "# Leitura dos dados do caminhamento grav:\n",
    "label = ['Lon', 'Lat', 'Gz']\n",
    "data2 = pd.read_csv('../dados_reais/perfil_grav.txt', sep= '\\s+ ', names=label, engine='python' )"
   ]
  },
  {
   "cell_type": "markdown",
   "metadata": {},
   "source": [
    "## Utilizando o Cartopy para projecao Cartografica dos dados:"
   ]
  },
  {
   "cell_type": "code",
   "execution_count": null,
   "metadata": {},
   "outputs": [],
   "source": [
    "import cartopy.crs as ccrs\n",
    "import cartopy.feature as cfeature"
   ]
  },
  {
   "cell_type": "code",
   "execution_count": null,
   "metadata": {},
   "outputs": [],
   "source": [
    "# centralizando a projecao por meio das coordendas de observacao:\n",
    "lonmin = data['long'].min() \n",
    "lonmax = data['long'].max() \n",
    "\n",
    "latmin = data['lat'].min()  \n",
    "latmax = data['lat'].max() "
   ]
  },
  {
   "cell_type": "code",
   "execution_count": null,
   "metadata": {},
   "outputs": [],
   "source": [
    "fig = plt.figure(figsize=(20,15))\n",
    "\n",
    "ax = fig.add_subplot(1, 1, 1, projection=ccrs.Mercator())\n",
    "\n",
    "ax.set_extent([lonmin, lonmax, latmin, latmax], crs=ccrs.Mercator())\n",
    "ax.coastlines(resolution='10m')\n",
    "\n",
    "\n",
    "#ax.add_feature(cfeature.LAND)\n",
    "ax.add_feature(cfeature.OCEAN)\n",
    "#ax.add_feature(cfeature.COASTLINE)\n",
    "#ax.add_feature(cfeature.BORDERS, linestyle=':')\n",
    "#ax.add_feature(cfeature.LAKES, alpha=0.5)\n",
    "#ax.add_feature(cfeature.RIVERS)\n",
    "p1 = ax.scatter(data.long, data.lat, c=data.mag_lev_trd, s=20.0, cmap='RdBu_r', alpha=0.5)\n",
    "p2 = ax.scatter(data2.Lon, data2.Lat, c = data2.Gz, s=50.0, cmap='jet', alpha=0.5)\n",
    "cbar = plt.colorbar(p1, aspect=30, fraction = 0.03, orientation=\"horizontal\")\n",
    "cbar.set_label('Anomalia Campo total - (nT) ',fontsize=15, rotation = 0)\n",
    "plt.show()"
   ]
  },
  {
   "cell_type": "code",
   "execution_count": null,
   "metadata": {},
   "outputs": [],
   "source": [
    "# ------------ plot the flight lines to check for the interpolation:--------#\n",
    "# ------------ set figure size: ------------------------------------------#\n",
    "plt.close('all')\n",
    "fig = plt.figure(figsize=(20,13), facecolor='w')\n",
    "\n",
    "#plt.subplot(1,2,1)\n",
    "#plt.title('Mag data - Barreirinhas Basin',fontsize=15)\n",
    "plt.xlabel('Longitude($^o$)', fontsize = 15)\n",
    "plt.ylabel('Latitude($^o$)', fontsize = 15)\n",
    "p1 = plt.scatter(data.X, data.Y, s=30.0, c=data.mag_fin, marker='.', cmap=plt.cm.jet)\n",
    "#p2 = plt.scatter(data2.Lon, data2.Lat, s=50.0, c =data2.Gz, marker='.', cmap='RdBu_r' )\n",
    "cbar1 = plt.colorbar(p1, aspect=30, fraction = 0.03, orientation=\"horizontal\")\n",
    "cbar1.set_label(' Total-field Anomaly$ (nT) $',fontsize=15, rotation = 0)\n",
    "\n",
    "cbar2 = plt.colorbar(p1, aspect=30, fraction = 0.03, orientation=\"vertical\")\n",
    "cbar2.set_label(' Complete Bouguer Anomaly $ (mGal) $',fontsize=15, rotation = 90)\n",
    "\n",
    "###########################################################################################################################\n",
    "\n",
    "#plt.subplot(1,2,2)\n",
    "#plt.title('Mag data - Barreirinhas Basin',fontsize=15)\n",
    "#plt.xlabel('Longitude($^o$)', fontsize = 15)\n",
    "#plt.ylabel('Latitude($^o$)', fontsize = 15)\n",
    "#p2 = plt.scatter(data.long, data.lat, s=10.0, c=data.mag_lev_trd, marker='.', cmap=plt.cm.rainbow)\n",
    "#cbar = plt.colorbar(p2, aspect=30, fraction = 0.03, orientation=\"horizontal\")\n",
    "#cbar.set_label(' Total-field anomaly $ (nT) $',fontsize=15, rotation = 0)\n",
    "#plt.savefig('fig3.png', dpi=200, transparent=False, bbox_inches='tight')\n",
    "\n",
    "plt.show()"
   ]
  },
  {
   "cell_type": "code",
   "execution_count": null,
   "metadata": {},
   "outputs": [],
   "source": []
  }
 ],
 "metadata": {
  "kernelspec": {
   "display_name": "Python 3",
   "language": "python",
   "name": "python3"
  },
  "language_info": {
   "codemirror_mode": {
    "name": "ipython",
    "version": 3
   },
   "file_extension": ".py",
   "mimetype": "text/x-python",
   "name": "python",
   "nbconvert_exporter": "python",
   "pygments_lexer": "ipython3",
   "version": "3.6.5"
  }
 },
 "nbformat": 4,
 "nbformat_minor": 2
}
